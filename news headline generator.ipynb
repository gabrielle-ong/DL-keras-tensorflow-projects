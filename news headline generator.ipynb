{
  "nbformat": 4,
  "nbformat_minor": 0,
  "metadata": {
    "colab": {
      "name": "p4.ipynb",
      "provenance": [],
      "collapsed_sections": []
    },
    "kernelspec": {
      "name": "python3",
      "display_name": "Python 3"
    },
    "accelerator": "GPU"
  },
  "cells": [
    {
      "cell_type": "markdown",
      "metadata": {
        "id": "m1eMVKy45nCk"
      },
      "source": [
        "# CSC321 Project 4 - Text Autoencoder (RNN) to generate news headlines\n",
        "\n",
        "**Valerie June Loka (100 4900 495) lokavale**\n",
        "\n",
        "**Gabrielle Ong (100 4634 791) onggabr1**\n",
        "\n",
        "---\n",
        "\n",
        "**Deadline**: Thursday, April. 2, by 9pm\n",
        "\n",
        "**Submission**: \n",
        "If you are using Google Colab or Jupyter Notebook,\n",
        "the easiest way to submit the assignment is to submit a PDF export of the completed notebook. \n",
        "If you are using Python, please submit a PDF file containing your code, written solutions,\n",
        "and any outputs that we are using to evaluate your work.\n",
        "\n",
        "**Late Submission**: Please see the syllabus for the late submission criteria.\n",
        "\n",
        "This time, we're back to the application of deep learning to natural language processing.\n",
        "We will be working with a subset of Reuters news headlines that are collected over 15 months,\n",
        "covering all of 2019, plus a few months in 2018 and in a few months of this year.\n",
        "\n",
        "In particular, we will be building an **autoencoder** of news headlines. The idea is similar\n",
        "to the kind of image autoencoder we built in lecture: we will have an **encoder** that\n",
        "maps a news headline to a vector embedding, and then a **decoder** that reconstructs\n",
        "the news headline. Both our encoder and decoder networks will be Recurrent Neural Networks,\n",
        "so that you have a chance to practice building\n",
        "\n",
        "- a neural network that takes a sequence as an input\n",
        "- a neural network that generates a sequence as an output\n",
        "\n",
        "This project is organized as follows:\n",
        "\n",
        "- Question 1. Exploring the data\n",
        "- Question 2. Building the autoencoder\n",
        "- Question 3. Training the autoencoder using *data augmentation*\n",
        "- Question 4. Analyzing the embeddings (interpolating between headlines)\n",
        "\n",
        "Furthermore, we'll be introducing the idea of **data augmentation** for improving of\n",
        "the robustness of the autoencoder, as proposed by Shen et al [1].\n",
        "\n",
        "[1] Shen et al (2019) \"Educating Text Autoencoders: Latent Representation Guidance via Denoising\" https://arxiv.org/pdf/1905.12777.pdf"
      ]
    },
    {
      "cell_type": "code",
      "metadata": {
        "id": "TRL7elb-5nCl"
      },
      "source": [
        "import torch\n",
        "import torch.nn as nn\n",
        "import torch.nn.functional as F\n",
        "import torch.optim as optim\n",
        "\n",
        "import matplotlib.pyplot as plt\n",
        "import numpy as np\n",
        "import random\n",
        "\n",
        "%matplotlib inline"
      ],
      "execution_count": null,
      "outputs": []
    },
    {
      "cell_type": "code",
      "metadata": {
        "id": "7SB1_sqBUGJV",
        "colab": {
          "base_uri": "https://localhost:8080/",
          "height": 51
        },
        "outputId": "e748dd92-a254-4124-e487-339917dfaa10"
      },
      "source": [
        "ct = nn.ConvTranspose2d(in_channels=1, out_channels=1, kernel_size=3,\n",
        "stride=2, padding=1, output_padding=1)\n",
        "\n",
        "print(ct(torch.zeros((1, 1, 8, 8))).shape)\n",
        "print(ct(torch.zeros((1, 1, 4, 4))).shape)"
      ],
      "execution_count": null,
      "outputs": [
        {
          "output_type": "stream",
          "text": [
            "torch.Size([1, 1, 16, 16])\n",
            "torch.Size([1, 1, 8, 8])\n"
          ],
          "name": "stdout"
        }
      ]
    },
    {
      "cell_type": "markdown",
      "metadata": {
        "id": "ydljf4bo5nCr"
      },
      "source": [
        "## Question 1\n",
        "\n",
        "Download the files `reuters_train.txt` and `reuters_valid.txt`, and upload them to Google Drive.\n",
        "\n",
        "Then, mount Google Drive from your Google Colab notebook:"
      ]
    },
    {
      "cell_type": "code",
      "metadata": {
        "id": "OhIuAJWu5nCs",
        "colab": {
          "base_uri": "https://localhost:8080/",
          "height": 122
        },
        "outputId": "e1b24557-6649-464c-8568-cdc92c9ee900"
      },
      "source": [
        "from google.colab import drive\n",
        "drive.mount('/content/gdrive')\n",
        "\n",
        "train_path = '/content/gdrive/My Drive/CSC321/reuters_train.txt' # Done\n",
        "valid_path = '/content/gdrive/My Drive/CSC321/reuters_valid.txt' # Done"
      ],
      "execution_count": null,
      "outputs": [
        {
          "output_type": "stream",
          "text": [
            "Go to this URL in a browser: https://accounts.google.com/o/oauth2/auth?client_id=947318989803-6bn6qk8qdgf4n4g3pfee6491hc0brc4i.apps.googleusercontent.com&redirect_uri=urn%3aietf%3awg%3aoauth%3a2.0%3aoob&response_type=code&scope=email%20https%3a%2f%2fwww.googleapis.com%2fauth%2fdocs.test%20https%3a%2f%2fwww.googleapis.com%2fauth%2fdrive%20https%3a%2f%2fwww.googleapis.com%2fauth%2fdrive.photos.readonly%20https%3a%2f%2fwww.googleapis.com%2fauth%2fpeopleapi.readonly\n",
            "\n",
            "Enter your authorization code:\n",
            "··········\n",
            "Mounted at /content/gdrive\n"
          ],
          "name": "stdout"
        }
      ]
    },
    {
      "cell_type": "markdown",
      "metadata": {
        "id": "_mCO-T-L5nCw"
      },
      "source": [
        "As promised in previous lecture, we will be using PyTorch's `torchtext` utilities to help us load, process,\n",
        "and batch the data. We'll be using a `TabularDataset` to load our data, which works well on structured\n",
        "CSV data with fixed columns (e.g. a column for the sequence, a column for the label). Our tabular dataset\n",
        "is even simpler: we have no labels, just some text. So, we are treating our data as a table with one field\n",
        "representing our sequence."
      ]
    },
    {
      "cell_type": "markdown",
      "metadata": {
        "id": "WkIyejvMyZsX"
      },
      "source": [
        ""
      ]
    },
    {
      "cell_type": "code",
      "metadata": {
        "id": "3LGaQdQN5nCy"
      },
      "source": [
        "import torchtext\n",
        "\n",
        "# Tokenization function to separate a headline into words\n",
        "def tokenize_headline(headline):\n",
        "    \"\"\"Returns the sequence of words in the string headline. We also\n",
        "    prepend the \"<bos>\" or beginning-of-string token, and append the\n",
        "    \"<eos>\" or end-of-string token to the headline.\n",
        "    \"\"\"\n",
        "    return (\"<bos> \" + headline + \" <eos>\").split()\n",
        "\n",
        "# Data field (column) representing our *text*.\n",
        "text_field = torchtext.data.Field(\n",
        "    sequential=True,            # this field consists of a sequence\n",
        "    tokenize=tokenize_headline, # how to split sequences into words\n",
        "    include_lengths=True,       # to track the length of sequences, for batching\n",
        "    batch_first=True,           # similar to batch_first=True in nn.RNN demonstrated in lecture\n",
        "    use_vocab=True)             # to turn each character into an integer index\n",
        "train_data = torchtext.data.TabularDataset(\n",
        "    path=train_path,                # data file path\n",
        "    format=\"tsv\",                   # fields are separated by a tab\n",
        "    fields=[('title', text_field)]) # list of fields (we have only one)"
      ],
      "execution_count": null,
      "outputs": []
    },
    {
      "cell_type": "markdown",
      "metadata": {
        "id": "C4ufPlf05nC1"
      },
      "source": [
        "### Part (a) -- 2 points\n",
        "\n",
        "Draw histograms of the number of words per headline in our training set.\n",
        "Excluding the `<bos>` and `<eos>` tags in your computation.\n",
        "Explain why we would be interested in such histograms."
      ]
    },
    {
      "cell_type": "code",
      "metadata": {
        "id": "J1PRgBcK5nC1",
        "colab": {
          "base_uri": "https://localhost:8080/",
          "height": 302
        },
        "outputId": "f0738637-3bb5-4262-86b3-68f97ce7e932"
      },
      "source": [
        "# Include your histogram and your written explanations\n",
        "\n",
        "# Here is an example of how to plot a histogram in matplotlib:\n",
        "# plt.hist(np.random.normal(0, 1, 40), bins=20)\n",
        "\n",
        "# x-axis = number of words in a headline\n",
        "# y-axis = frequency of a specific number of words in a headline\n",
        "\n",
        "values_hist = []\n",
        "\n",
        "for t in train_data:\n",
        "  values_hist.append(len(t.title[1:len(t.title)-1])-2) # -2 to exclude bos, eos\n",
        "\n",
        "bin_value = len(set(values_hist))\n",
        "plt.hist(values_hist, bins=bin_value)\n",
        "plt.show()\n",
        "\n",
        "# print(bin_value)\n",
        "\n",
        "# Here are some sample code that uses the train_data object:\n",
        "# print(train_data[0].title)\n",
        "# for example in train_data:\n",
        "#     print(example.title)\n",
        "#     break\n",
        "\n",
        "\"\"\"\n",
        "===EXPLANATION===\n",
        "We want to know roughly how many words per headline,\n",
        "to have an idea of how many hidden units are required.\n",
        "If the sentence is too long, \n",
        "we may decide to use attention based encoders and decoders.\n",
        "\"\"\""
      ],
      "execution_count": null,
      "outputs": [
        {
          "output_type": "display_data",
          "data": {
            "image/png": "[encoded data removed]",
            "text/plain": [
              "<Figure size 432x288 with 1 Axes>"
            ]
          },
          "metadata": {
            "tags": [],
            "needs_background": "light"
          }
        },
        {
          "output_type": "execute_result",
          "data": {
            "text/plain": [
              "'\\n===EXPLANATION===\\nWe want to know roughly how many words per headline,\\nto have an idea of how many hidden units are required.\\nIf the sentence is too long, \\nwe may decide to use attention based encoders and decoders.\\n'"
            ]
          },
          "metadata": {
            "tags": []
          },
          "execution_count": 5
        }
      ]
    },
    {
      "cell_type": "markdown",
      "metadata": {
        "id": "aQ_nRF-V5nC6"
      },
      "source": [
        "### Part (b) -- 2 points\n",
        "\n",
        "How many distinct words appear in the training data?\n",
        "Exclude the `<bos>` and `<eos>` tags in your computation."
      ]
    },
    {
      "cell_type": "code",
      "metadata": {
        "id": "tNCx1iCO5nC7",
        "colab": {
          "base_uri": "https://localhost:8080/",
          "height": 34
        },
        "outputId": "6adeb8a2-60ca-4bea-88fb-dd1a19df097f"
      },
      "source": [
        "# Report your values here. Make sure that you report the actual values,\n",
        "# and not just the code used to get those values\n",
        "\n",
        "# You might find the python class Counter from the collections package useful\n",
        "# from collections import Counter\n",
        "# num_distinct = len(list(Counter(train_data).keys()))\n",
        "# print(\"number of distinct words: \", num_distinct)\n",
        "from collections import Counter\n",
        "words_list = []\n",
        "for seq in train_data:\n",
        "  for word in seq.title[1:len(seq.title)-1]: # excludes bos eos\n",
        "    words_list.append(word)\n",
        "\n",
        "distinct_words = list(Counter(words_list).keys())\n",
        "num_distinct = len(distinct_words)\n",
        "print(\"number of distinct words: \", num_distinct)"
      ],
      "execution_count": null,
      "outputs": [
        {
          "output_type": "stream",
          "text": [
            "number of distinct words:  51298\n"
          ],
          "name": "stdout"
        }
      ]
    },
    {
      "cell_type": "markdown",
      "metadata": {
        "id": "VrH4CjwL5nC9"
      },
      "source": [
        "### Part (c) -- 2 points\n",
        "\n",
        "The distribution of *words* will have a long tail, meaning that there are some words\n",
        "that will appear very often, and many words that will appear infrequently. How many words\n",
        "appear exactly once in the training set? Exactly twice?"
      ]
    },
    {
      "cell_type": "code",
      "metadata": {
        "id": "v9koz_yo5nC-",
        "colab": {
          "base_uri": "https://localhost:8080/",
          "height": 51
        },
        "outputId": "12b3d936-540d-4853-a50b-0e4d28d58cf4"
      },
      "source": [
        "# Report your values here. Make sure that you report the actual values,\n",
        "# and not just the code used to get those values\n",
        "\n",
        "word_occ_list = list(Counter(words_list).values())\n",
        "words_once = word_occ_list.count(1)\n",
        "words_twice = word_occ_list.count(2)\n",
        "print(\"number of words appearing once: \", words_once)\n",
        "print(\"number of words appearing twice: \", words_twice)"
      ],
      "execution_count": null,
      "outputs": [
        {
          "output_type": "stream",
          "text": [
            "number of words appearing once:  19854\n",
            "number of words appearing twice:  7193\n"
          ],
          "name": "stdout"
        }
      ]
    },
    {
      "cell_type": "markdown",
      "metadata": {
        "id": "Nh0wtJdi5nDC"
      },
      "source": [
        "### Part (d) -- 2 points\n",
        "\n",
        "Explain why we may wish to replace these infrequent\n",
        "words with an `<unk>` tag, instead of learning embeddings for these rare words.\n",
        "(Hint: Consider words in the validation set that might not appear in training)"
      ]
    },
    {
      "cell_type": "code",
      "metadata": {
        "id": "nhGG9m015nDC",
        "colab": {
          "base_uri": "https://localhost:8080/",
          "height": 54
        },
        "outputId": "080eba0a-0e8c-485c-b29b-cd10f1e08f6d"
      },
      "source": [
        "# Include your explanation here\n",
        "\"\"\"\n",
        "===EXPLANATION===\n",
        "Since these words are infrequent, there's almost no point in learning word \n",
        "embeddings for them, since there is little to no pattern in the training set.\n",
        "So we can just consider them negligible in the training set and \n",
        "replace them with <unk>.\n",
        "\n",
        "Through training, we are able to get an embedding for <unk> for rare words,\n",
        "so on the validation set, we can also generate the <unk> tag for rare words\n",
        "that did not appear in training. \n",
        "\"\"\""
      ],
      "execution_count": null,
      "outputs": [
        {
          "output_type": "execute_result",
          "data": {
            "text/plain": [
              "\"\\n===EXPLANATION===\\nSince these words are infrequent, there's almost no point in learning word \\nembeddings for them, since there is little to no pattern in the training set.\\nSo we can just consider them negligible in the training set and \\nreplace them with <unk>.\\n\\nThrough training, we are able to get an embedding for <unk> for rare words,\\nso on the validation set, we can also generate the <unk> tag for rare words\\nthat did not appear in training. \\n\""
            ]
          },
          "metadata": {
            "tags": []
          },
          "execution_count": 8
        }
      ]
    },
    {
      "cell_type": "markdown",
      "metadata": {
        "id": "Je5WNBK65nDF"
      },
      "source": [
        "### Part (e) -- 2 points\n",
        "\n",
        "We will only model the top 9995 words in the training set, excluding the tags\n",
        "`<bos>`, `<eos>`, and other possible tags we haven't mentioned yet\n",
        "(including those, we will have a vocabulary size of exactly 10000 tokens).\n",
        "\n",
        "What percentage of word occurrences will be supported? Alternatively, what percentage\n",
        "of word occurrences in the training set will be set to the `<unk>` tag?"
      ]
    },
    {
      "cell_type": "code",
      "metadata": {
        "id": "Jy4J1ZCR5nDF",
        "colab": {
          "base_uri": "https://localhost:8080/",
          "height": 51
        },
        "outputId": "d1b81752-b148-406a-ee23-1b4d894a6b63"
      },
      "source": [
        "# Report your values here. Make sure that you report the actual values,\n",
        "# and not just the code used to get those values\n",
        "\n",
        "# Sanity Check:\n",
        "# print(Counter(words_list).most_common(10))\n",
        "# [('to', 58452), (',', 43088), ('in', 38538), (\"'s\", 34580), ('_num_', 31340), \n",
        "#  (':', 28052), ('on', 24794), ('of', 22895), ('for', 22163), ('u.s.', 19320)]\n",
        "\n",
        "freq_top_words = [freq for word, freq in Counter(words_list).most_common(9995)]\n",
        "supported = sum(freq_top_words)\n",
        "percent_supported = supported / len(words_list) * 100\n",
        "percent_unsupported = 100 - percent_supported\n",
        "print(\"percentage of words occurrences supported: \", percent_supported, \"%\")\n",
        "print(\"percentage of words set to <unk>: \", percent_unsupported, \"%\")"
      ],
      "execution_count": null,
      "outputs": [
        {
          "output_type": "stream",
          "text": [
            "percentage of words occurrences supported:  93.97857393100142 %\n",
            "percentage of words set to <unk>:  6.021426068998579 %\n"
          ],
          "name": "stdout"
        }
      ]
    },
    {
      "cell_type": "markdown",
      "metadata": {
        "id": "ajMVDSAg5nDJ"
      },
      "source": [
        "Our `torchtext` package will help us keep track of our list of unique words, known\n",
        "as a **vocabulary**. A vocabulary also assigns a unique integer index to each word.\n",
        "You can interpret these indices as sparse representations of one-hot vectors."
      ]
    },
    {
      "cell_type": "code",
      "metadata": {
        "id": "bt1F1lUz5nDJ",
        "colab": {
          "base_uri": "https://localhost:8080/",
          "height": 102
        },
        "outputId": "c3ad2fad-0c85-484e-f15b-122cc225e521"
      },
      "source": [
        "# Build the vocabulary based on the training data. The vocabulary\n",
        "# can have at most 9997 words (9995 words + the <bos> and <eos> token)\n",
        "text_field.build_vocab(train_data, max_size=9997)\n",
        "\n",
        "# This vocabulary object will be helpful for us\n",
        "vocab = text_field.vocab\n",
        "print(vocab.stoi[\"hello\"]) # for instances, we can convert from string to (unique) index\n",
        "print(vocab.itos[10])      # ... and from word index to string\n",
        "\n",
        "# The size of our vocabulary is actually 10000\n",
        "vocab_size = len(text_field.vocab.stoi)\n",
        "print(vocab_size) # should be 10000\n",
        "\n",
        "# The reason is that torchtext adds two more tokens for us:\n",
        "print(vocab.itos[0]) # <unk> represents an unknown word not in our vocabulary\n",
        "print(vocab.itos[1]) # <pad> will be used to pad short sequences for batching"
      ],
      "execution_count": null,
      "outputs": [
        {
          "output_type": "stream",
          "text": [
            "0\n",
            "on\n",
            "10000\n",
            "<unk>\n",
            "<pad>\n"
          ],
          "name": "stdout"
        }
      ]
    },
    {
      "cell_type": "markdown",
      "metadata": {
        "id": "SbEzOU6C5nDS"
      },
      "source": [
        "## Question 2\n",
        "\n",
        "Building a text autoencoder is a little more complicated than an image autoencoder, so\n",
        "we'll need to thoroughly understand the model that we want to build before actually building\n",
        "our model. Note that the best and fastest way to complete this assignment is to spend a *lot*\n",
        "of time upfront understanding the architecture. The explanations are quite dense, and you\n",
        "might need to stop every sentence or two to understand what's going on.\n",
        "You won't feel productive for a while since you won't be writing code,\n",
        "but this initial investment will help you become more productive later on.\n",
        "Understanding this architecture will also help you understand other machine learning\n",
        "papers you might come across. So, take a deep breath, and let's do this!\n",
        "\n",
        "Here is a diagram showing our desired architecture:\n",
        "\n",
        "<img src=\"https://www.cs.toronto.edu/~lczhang/321/hw/p4model.png\" width=\"95%\" />\n",
        "\n",
        "There are two main components to the model: the **encoder** and the **decoder**.\n",
        "As always with neural networks, we'll first describe how to make\n",
        "**predictions** with of these components. Let's get started:\n",
        "\n",
        "The **encoder** will take a sequence of words (a headline) as *input*, and produce an\n",
        "embedding (a vector) that represents the entire headline. In the diagram above,\n",
        "the vector ${\\bf h}^{(7)}$ is the vector embedding containing information about \n",
        "the entire headline.  This portion is very similar\n",
        "to the sentiment analysis RNN that we discussed in lecture (but without the fully-connected\n",
        "layer that makes a prediction).\n",
        "\n",
        "The **decoder** will take an embedding (in the diagram, the vector ${\\bf h}^{(7)}$) as input,\n",
        "and uses a separate RNN to **generate a sequence of words**. To generate a sequence of words,\n",
        "the decoder needs to do the following:\n",
        "\n",
        "1) Determine the previous word that was generated. This previous word will act as ${\\bf x}^{(t)}$\n",
        "   to our RNN, and will be used to update the hidden state ${\\bf m}^{(t)}$. Since each of our\n",
        "   sequences begin with the `<bos>` token, we'll set ${\\bf x}^{(1)}$ to be the `<bos>` token.\n",
        "2) Compute the updates to the hidden state ${\\bf m}^{(t)}$ based on the previous hidden state\n",
        "   ${\\bf m}^{(t-1)}$ and ${\\bf x}^{(t)}$. Intuitively, this hidden state vector ${\\bf m}^{(t)}$\n",
        "   is a representation of *all the words we still need to generate*.\n",
        "3) We'll use a fully-connected layer to take a hidden state ${\\bf m}^{(t)}$, and determine\n",
        "   *what the next word should be*. This fully-connected layer solves a *classification problem*,\n",
        "   since we are trying to choose a word out of $K=10000$ distinct words. As in a classification\n",
        "   problem, the fully-connected neural network will compute a *probability distribution* over\n",
        "   these 10,000 words. In the diagram, we are using ${\\bf z}^{(t)}$ to represent the logits,\n",
        "   or the pre-softmax activation values representing the probability distribution.\n",
        "4) We will need to *sample* an actual word from this probability distribution ${\\bf z}^{(t)}$.\n",
        "   We can do this in a number of ways, which we'll discuss in question 3. For now, you can \n",
        "   imagine your favourite way of picking a word given a distribution over words.\n",
        "5) This word we choose will become the next input ${\\bf x}^{(t+1)}$ to our RNN, which is used\n",
        "   to update our hidden state ${\\bf m}^{(t+1)}$---i.e. to determine what are the remaining\n",
        "   words to be generated.\n",
        "\n",
        "We can repeat this process until we see an `<eos>` token generated, or until the generated\n",
        "sequence becomes too long.\n",
        "\n",
        "Unfortunately, we can't *train* this autoencoder in the way we just described. That is,\n",
        "we can't just compare our generated sequence with our ground-truth sequence, and get\n",
        "gradients. Both sequences are **discrete** entities, so we won't be able to compute\n",
        "gradients at all! In particular, **sampling is a discrete process**, and so we won't be\n",
        "able to back-propagate through any kind of sampling that we do.\n",
        "\n",
        "You might wonder whether we can get away with computing gradients by comparing the\n",
        "distributions ${\\bf z}^{(t)}$ with the ground truth words at each time step. Like any\n",
        "multi-class classification problem, we can represent the ground-truth words as a one-hot\n",
        "vector, and use the cross-entropy loss.\n",
        "\n",
        "In theory, we can do this. In practice, there are a few issues. One is that the generated\n",
        "sequence might be longer or shorter than the actual sequence, meaning that there may\n",
        "be more/fewer ${\\bf z}^{(t)}$s than ground-truth words. Another more insidious issue\n",
        "is that the **gradients will become very high-variance and unstable**, because\n",
        "**early mistakes will easily throw the model off-track**. Early in training,\n",
        "our model is unlikely to produce the right answer in step $t=1$, so the gradients\n",
        "we obtain based on the other time steps will not be very useful.\n",
        "\n",
        "At this point, you might have some ideas about \"hacks\" we can use to make training\n",
        "work. Fortunately, there is one very well-established solution called\n",
        "**teacher forcing** which we can use for training:\n",
        "instead of *sampling* the next word based on ${\\bf z}^{(t)}$, we will forgo sampling,\n",
        "and use the **ground truth** ${\\bf x}^{(t)}$ in the next step.\n",
        "\n",
        "Here is a diagram showing how we can use **teacher forcing** to train our model:\n",
        "\n",
        "<img src=\"https://www.cs.toronto.edu/~lczhang/321/hw/p4model_tf.png\" width=\"95%\" />\n",
        "\n",
        "We will use the RNN generator to compute the logits\n",
        "${\\bf z}^{(1)},{\\bf z}^{(2)},  \\cdots {\\bf z}^{(T)}$. These distributions\n",
        "can be compared to the ground-truth words using the cross-entropy loss.\n",
        "The loss function for this model will be the sum of the losses across each $t$.\n",
        "(This is similar to what we did in a pixel-wise prediction problem.)\n",
        "\n",
        "We'll train the encoder and decoder model simultaneously. There are several components\n",
        "to our model that contain tunable weights:\n",
        "\n",
        "- The word embedding that maps a word to a vector representation.\n",
        "  In theory, we could use GloVe embeddings, or initialize our parameters to\n",
        "  GloVe embeddings. To prevent students who don't have Colab access\n",
        "  from having to download a 1GB file, we won't do that.\n",
        "  The word embedding component is represented with blue arrows in the diagram.\n",
        "- The encoder RNN (which will use Gated Recurrent Units) that computes the\n",
        "  embedding over the entire headline. The encoder RNN \n",
        "  is represented with black arrows in the diagram.\n",
        "- The decoder RNN (which will also use Gated Recurrent Units) that computes\n",
        "  hidden states, which are vectors representing what words are to be generated.\n",
        "  The decoder RNN is represented with gray arrows in the diagram.\n",
        "- The **projection MLP** (a fully-connected layer) that computes\n",
        "  a distribution over the next word to generate, given a decoder RNN hidden\n",
        "  state.\n",
        "\n",
        "## Part (a) -- 10 pts\n",
        "\n",
        "Complete the code for the AutoEncoder class below by:\n",
        "\n",
        "1. Filling in the missing numbers in the `__init__` method using\n",
        "   the parameters `vocab_size`, `emb_size`, and `hidden_size`. (4 points)\n",
        "2. Complete the `forward` method, which uses teacher forcing\n",
        "   and computes the logits $z^{(t)}$ of the reconstruction of\n",
        "   the sequence. (4 points)\n",
        "\n",
        "You should first try to understand the `encode` and `decode` methods,\n",
        "which are written for you. The `encode` method mimics the discriminative\n",
        "RNN we wrote in class for sentiment analysis.  The `decode` method is\n",
        "a bit more challenging. You might want to scroll down to the\n",
        "`sample_sequence` function to see how this function will be called.\n",
        "\n",
        "You can (but don't have to) use the `encode` and `decode` method in\n",
        "your `forward` method. In either case, be very careful of the input\n",
        "that you feed into ether `decode` or to `self.decoder_rnn`.\n",
        "Refer to the teacher-forcing diagram."
      ]
    },
    {
      "cell_type": "code",
      "metadata": {
        "id": "-_sw9Oy55nDT"
      },
      "source": [
        "class AutoEncoder(nn.Module):\n",
        "    def __init__(self, vocab_size, emb_size, hidden_size):\n",
        "        \"\"\"\n",
        "        A text autoencoder. The parameters \n",
        "            - vocab_size: number of unique words/tokens in the vocabulary\n",
        "            - emb_size: size of the word embeddings $x^{(t)}$\n",
        "            - hidden_size: size of the hidden states in both the\n",
        "                           encoder RNN ($h^{(t)}$) and the\n",
        "                           decoder RNN ($m^{(t)}$)\n",
        "        \"\"\"\n",
        "        super().__init__()\n",
        "        self.embed = nn.Embedding(num_embeddings=vocab_size, # TODO\n",
        "                                  embedding_dim=emb_size)  # TODO\n",
        "        self.encoder_rnn = nn.GRU(input_size=emb_size, #TODO\n",
        "                                  hidden_size=hidden_size, #TODO\n",
        "                                  batch_first=True)\n",
        "        self.decoder_rnn = nn.GRU(input_size=emb_size, #TODO\n",
        "                                  hidden_size=hidden_size, #TODO\n",
        "                                  batch_first=True)\n",
        "        # fully-connect layer that outputs a distribution over\n",
        "        # the next token, given the RNN output\n",
        "        self.proj = nn.Linear(in_features=hidden_size, # TODO\n",
        "                              out_features=vocab_size) # TODO\n",
        "\n",
        "    def encode(self, inp):\n",
        "        \"\"\"\n",
        "        Computes the encoder output given a sequence of words.\n",
        "        \"\"\"\n",
        "        emb = self.embed(inp)\n",
        "        out, last_hidden = self.encoder_rnn(emb)\n",
        "        return last_hidden # Shape: (num_layers*directions, batch, hidden_size)\n",
        "\n",
        "    def decode(self, inp, hidden=None):\n",
        "        \"\"\"\n",
        "        Computes the decoder output given a sequence of words, and\n",
        "        (optionally) an initial hidden state.\n",
        "        \"\"\"\n",
        "        emb = self.embed(inp)\n",
        "        out, last_hidden = self.decoder_rnn(emb, hidden)\n",
        "        out_seq = self.proj(out)\n",
        "        return out_seq, last_hidden\n",
        "\n",
        "    def forward(self, inp):\n",
        "        \"\"\"\n",
        "        Compute both the encoder and decoder forward pass\n",
        "        given an integer input sequence inp with shape [batch_size, seq_length],\n",
        "        with inp[a,b] representing the (index in our vocabulary of) the b-th word\n",
        "        of the a-th training example.\n",
        "\n",
        "        This function should return the logits $z^{(t)}$ in a tensor of shape\n",
        "        [batch_size, seq_length - 1, vocab_size], computed using *teaching forcing*.\n",
        "\n",
        "        The (seq_length - 1) part is not a typo. If you don't understand why\n",
        "        we need to subtract 1, refer to the teacher-forcing diagram above.\n",
        "        \"\"\"\n",
        "        # TODO\n",
        "        encoder_hidden = self.encode(inp)\n",
        "        out_seq, decoder_hidden = self.decode(inp, encoder_hidden)\n",
        "        return out_seq, decoder_hidden"
      ],
      "execution_count": null,
      "outputs": []
    },
    {
      "cell_type": "markdown",
      "metadata": {
        "id": "pDZniB3Y5nDX"
      },
      "source": [
        "### Part (b) -- 5 pts\n",
        "\n",
        "To check that your model is set up correctly, we'll train our AutoEncoder\n",
        "neural network for at least 300 iterations to memorize this sequence:"
      ]
    },
    {
      "cell_type": "code",
      "metadata": {
        "id": "xj5p_R4M5nDY",
        "colab": {
          "base_uri": "https://localhost:8080/",
          "height": 34
        },
        "outputId": "1f3e1455-0ed9-4d5e-f190-df84cdd27161"
      },
      "source": [
        "headline = train_data[42].title\n",
        "print(headline)\n",
        "input_seq = torch.Tensor([vocab.stoi[w] for w in headline]).long().unsqueeze(0)"
      ],
      "execution_count": null,
      "outputs": [
        {
          "output_type": "stream",
          "text": [
            "['<bos>', 'zambian', 'president', 'swears', 'in', 'new', 'army', 'chief', '<eos>']\n"
          ],
          "name": "stdout"
        }
      ]
    },
    {
      "cell_type": "markdown",
      "metadata": {
        "id": "y8vSSbOh5nDa"
      },
      "source": [
        "We are looking for the way that you set up your loss function\n",
        "corresponding to the figure above.\n",
        "**Be very careful of off-by-ones.**\n",
        "\n",
        "\n",
        "Note that the Cross Entropy Loss expects a rank-2 tensor as its first\n",
        "argument, and a rank-1 tensor as its second argument. You will\n",
        "need to properly reshape your data to be able to compute the loss."
      ]
    },
    {
      "cell_type": "code",
      "metadata": {
        "id": "MeWPrsFz5nDb",
        "colab": {
          "base_uri": "https://localhost:8080/",
          "height": 272
        },
        "outputId": "0802a4d3-fc41-43b9-af1f-12b7f2538258"
      },
      "source": [
        "model = AutoEncoder(vocab_size, 128, 128)\n",
        "optimizer = optim.Adam(model.parameters(), lr=0.001)\n",
        "criterion = nn.CrossEntropyLoss()\n",
        "\n",
        "for it in range(300):\n",
        "\n",
        "    # TODO\n",
        "    optimizer.zero_grad()\n",
        "    output, hidden = model(input_seq[:,:-1]) # take out <eos> from input\n",
        "    target = input_seq[:,1:] # take out <bos> from target\n",
        "    loss = criterion(output.reshape(-1, vocab_size), # reshape to 2D tensor\n",
        "                     target.reshape(-1))             # reshape to 1D tensor\n",
        "    loss.backward()\n",
        "    optimizer.step()\n",
        "    \n",
        "    if (it+1) % 20 == 0:\n",
        "        print(\"[Iter %d] Loss %f\" % (it+1, float(loss)))"
      ],
      "execution_count": null,
      "outputs": [
        {
          "output_type": "stream",
          "text": [
            "[Iter 20] Loss 3.496940\n",
            "[Iter 40] Loss 0.296341\n",
            "[Iter 60] Loss 0.068585\n",
            "[Iter 80] Loss 0.041055\n",
            "[Iter 100] Loss 0.030894\n",
            "[Iter 120] Loss 0.024815\n",
            "[Iter 140] Loss 0.020527\n",
            "[Iter 160] Loss 0.017315\n",
            "[Iter 180] Loss 0.014831\n",
            "[Iter 200] Loss 0.012861\n",
            "[Iter 220] Loss 0.011281\n",
            "[Iter 240] Loss 0.010005\n",
            "[Iter 260] Loss 0.008953\n",
            "[Iter 280] Loss 0.008070\n",
            "[Iter 300] Loss 0.007321\n"
          ],
          "name": "stdout"
        }
      ]
    },
    {
      "cell_type": "markdown",
      "metadata": {
        "id": "MQa37F4w5nDg"
      },
      "source": [
        "### Part (c) -- 2 pt\n",
        "\n",
        "Once you are satisfied with your model, encode your input using\n",
        "the RNN encoder, and sample some sequences from the decoder. The \n",
        "sampling code is provided to you, and performs the computation\n",
        "from the first diagram (without teacher forcing).\n",
        "\n",
        "Note that we are sampling from a multi-nomial distribution described\n",
        "by the logits $z^{(t)}$. For example, if our distribution is [80%, 20%]\n",
        "over a vocabulary of two words, then we will choose the first word\n",
        "with 80% probability and the second word with 20% probability.\n",
        "\n",
        "Call `sample_sequence` at least 5 times, with the default temperature\n",
        "value. Make sure to include the generated sequences in your PDF\n",
        "report."
      ]
    },
    {
      "cell_type": "code",
      "metadata": {
        "id": "nXhesyBG5nDh",
        "colab": {
          "base_uri": "https://localhost:8080/",
          "height": 102
        },
        "outputId": "26d6d1e7-04df-4023-aaca-07746c15a746"
      },
      "source": [
        "def sample_sequence(model, hidden, max_len=20, temperature=1):\n",
        "    \"\"\"\n",
        "    Return a sequence generated from the model's decoder\n",
        "        - model: an instance of the AutoEncoder model\n",
        "        - hidden: a hidden state (e.g. computed by the encoder)\n",
        "        - max_len: the maximum length of the generated sequence\n",
        "        - temperature: described in Part (d)\n",
        "    \"\"\"\n",
        "    # We'll store our generated sequence here\n",
        "    generated_sequence = []\n",
        "    # Set input to the <BOS> token\n",
        "    inp = torch.Tensor([text_field.vocab.stoi[\"<bos>\"]]).long()\n",
        "    for p in range(max_len):\n",
        "        # compute the output and next hidden unit\n",
        "        output, hidden = model.decode(inp.unsqueeze(0), hidden)\n",
        "        # Sample from the network as a multinomial distribution\n",
        "        output_dist = output.data.view(-1).div(temperature).exp()\n",
        "        top_i = int(torch.multinomial(output_dist, 1)[0])\n",
        "        # Add predicted word to string and use as next input\n",
        "        word = text_field.vocab.itos[top_i]\n",
        "        # Break early if we reach <eos>\n",
        "        if word == \"<eos>\":\n",
        "            break\n",
        "        generated_sequence.append(word)\n",
        "        inp = torch.Tensor([top_i]).long()\n",
        "    return generated_sequence\n",
        "\n",
        "# Your solutions go here\n",
        "hidden = model.encode(input_seq)\n",
        "print(sample_sequence(model, hidden))\n",
        "print(sample_sequence(model, hidden))\n",
        "print(sample_sequence(model, hidden))\n",
        "print(sample_sequence(model, hidden))\n",
        "print(sample_sequence(model, hidden))"
      ],
      "execution_count": null,
      "outputs": [
        {
          "output_type": "stream",
          "text": [
            "['zambian', 'president', 'swears', 'in', 'new', 'army', 'chief']\n",
            "['zambian', 'president', 'swears', 'in', 'new', 'army', 'chief']\n",
            "['zambian', 'president', 'swears', 'in', 'new', 'army', 'chief']\n",
            "['zambian', 'president', 'swears', 'in', 'new', 'army', 'chief']\n",
            "['zambian', 'president', 'swears', 'in', 'new', 'army', 'chief']\n"
          ],
          "name": "stdout"
        }
      ]
    },
    {
      "cell_type": "markdown",
      "metadata": {
        "id": "5jGqrr6w5nDl"
      },
      "source": [
        "### Part (d) -- 3 pt\n",
        "\n",
        "The multi-nomial distribution can be manipulated using the `temperature`\n",
        "setting. This setting can be used to make the distribution \"flatter\" (e.g.\n",
        "more likely to generate different words) or \"peakier\" (e.g. less likely\n",
        "to generate different words).\n",
        "\n",
        "Call `sample_sequence` at least 5 times each for at least 3 different\n",
        "temperature settings (e.g. 1.5, 2, and 5). Explain why we generally\n",
        "don't want the temperature setting to be too **large**."
      ]
    },
    {
      "cell_type": "code",
      "metadata": {
        "id": "tuuHaFEq5nDn",
        "colab": {
          "base_uri": "https://localhost:8080/",
          "height": 411
        },
        "outputId": "87315ba0-bc6a-47c1-9ad7-0b1a13c96ab8"
      },
      "source": [
        "# Include the generated sequences and explanation in your PDF report.\n",
        "print(\"\\nTemperature = 1.5:\")\n",
        "print(sample_sequence(model, hidden, temperature=1.5))\n",
        "print(sample_sequence(model, hidden, temperature=1.5))\n",
        "print(sample_sequence(model, hidden, temperature=1.5))\n",
        "print(sample_sequence(model, hidden, temperature=1.5))\n",
        "print(sample_sequence(model, hidden, temperature=1.5))\n",
        "\n",
        "print(\"\\nTemperature = 2:\")\n",
        "print(sample_sequence(model, hidden, temperature=2))\n",
        "print(sample_sequence(model, hidden, temperature=2))\n",
        "print(sample_sequence(model, hidden, temperature=2))\n",
        "print(sample_sequence(model, hidden, temperature=2))\n",
        "print(sample_sequence(model, hidden, temperature=2))\n",
        "\n",
        "print(\"\\nTemperature = 5:\")\n",
        "print(sample_sequence(model, hidden, temperature=5))\n",
        "print(sample_sequence(model, hidden, temperature=5))\n",
        "print(sample_sequence(model, hidden, temperature=5))\n",
        "print(sample_sequence(model, hidden, temperature=5))\n",
        "print(sample_sequence(model, hidden, temperature=5))\n",
        "\n",
        "\"\"\"\n",
        "===EXPLANATION===\n",
        "The temperature parameter manipulates the softmax outputs -\n",
        "A large temperature makes the probability of each token more even so we end up\n",
        "with more random and diverse sample, with potentially more mistakes.\n",
        "\"\"\""
      ],
      "execution_count": null,
      "outputs": [
        {
          "output_type": "stream",
          "text": [
            "\n",
            "Temperature = 1.5:\n",
            "['y', 'struggle', 'zambian', 'president', 'swears', 'in', 'new', 'army', 'dementia', 'chief', 'kills', 'jr.', 'flowing', 'schlumberger', 'hide', 'valuation', 'swears', 'limited', 'injection', 'complaint']\n",
            "['zambian', '18,000', 'right', 'mall', 'torch', 'approval', 'bloody', 'large', 'in', 'new', 'army', 'mate', '_num_-california', 'boon', 'amend', 'cost', '_num_-india', 'other', 'tornadoes', 'hdfc']\n",
            "['crowds', 'freeze', 'lgbt', 'army', 'hughes', 'repayment', 'accusers', 'developed', 'pledge', 'fueled', 'bofa', 'islamists', 'wednesday', 'irish', 'atp', 'temper', 'slovenia', 'threatened', 'warming', 'euros']\n",
            "['zambian', 'jedi', 'president', 'swears', 'skip', 'new', 'army', 'chief']\n",
            "['kudlow', 'hear', 'auto', 'grips', 'racism', '_num_-starbucks', '_num_-week', 'voluntary', 'fears', 'refinery', 'new', 'army', 'chief', '_num_-hundreds', 'showed', 'upside', 'tweet', 'operate', 'defences', '_num_-sweden']\n",
            "\n",
            "Temperature = 2:\n",
            "['easily', 'bomber', 'hardliners', 'expect', 'baghdad', 'crosses', 'foster', 'buried', 'surprises', 'plane', 'gopro', 'president', 'glut', 'assets', 'convicts', 'cenovus', 'exploration', 'sinking', 'senator', 'allied']\n",
            "['complaint', 'options', 'ruins', 'clings', 'house', 'condor', 'india-pakistan', 'airplane', 'avon', 'spent', 'cut', 'incidents', 'rival', 'euronext', 'zambian', 'soldiers', 'collision', 'x', 'restaurant', 'keys']\n",
            "['dive', 'troubled', 'oversee', 'hasbro', 'acted', 'kill', 'raids', 'indigenous', '_num_-turkish', 'wobble', 'tweets', 'london', 'jgb', 'measure', '_num_-enbridge', 'championships', 'concern', 'reflects', 'pressing', 'rep.']\n",
            "['pause', 'aston', 'hefty', 'amp', 'gray', 'poland', '2,500', 'demonstrations', 'cholera', 'ramping', 'eke', 'army', 'appeals', 'in', 'nmc', 'ghani', 'pray', 'case', 'escapes', 'mounts']\n",
            "['zambian', 'rejection', 'keytruda', 'representative', 'iaaf', 'harper', 'invites', 'army', 'wind', 'chief', 'valley', 'deadly', 'stun', 'lifeline', 'genesis', 'communist', 'ignored', 'aluminum', 'handling', 'prosus']\n",
            "\n",
            "Temperature = 5:\n",
            "['husband', 'japanese', 'brotherhood', 'newspapers', 'convert', 'lung', 'elizabeth', 'favors', 'u.s.-mexico', 'evaluate', 'terms', 'controlling', 'role', '-ft', 'moved', 'solomon', 'destroy', 'hog', 'all', 'markets-em']\n",
            "['backing', 'lethal', 'jerusalem', 'assessment', 'nissan', 'lloyds', 'nadal', 'advice', 'drill', 'skin', 'rivers', 'elect', 'heist', 'regulations', 'steady', 'fatigue', 'zuckerberg', 'dinner', 'cibc', 'larger']\n",
            "['chicago', 'reading', 'flags', 'taliban', 'yahoo', 'defies', 'y', 'breaks', 'treble', 'tools', 'risk-on', '_num_-activist', 'parliamentary', 'revived', 'pool', 'dozens', 'bayern', 'protests', 'trader', '_num_-swiss']\n",
            "['raided', '_num_-foxconn', 'closures', 'swaps', 'trln', 'kering', '_num_-congo', 'oslo', 'safely', 'ramadan', 'detains', 'principle', 'resigning', 'caesars', 'one-day', 'catch', 'vapes', 'geely', 'waiting', 'iran-u.s.']\n",
            "['schedule', 'dhs', 'franc', 'snapshot-futures', 'pwc', 'model', 'recedes', 'transport', 'cost', 'exports', 'deforestation', 'woo', 'tainted', 'lvmh', 'coty', 'hammer', 'sam', 'p.m.', '_num_-top', 'contempt']\n"
          ],
          "name": "stdout"
        },
        {
          "output_type": "execute_result",
          "data": {
            "text/plain": [
              "'\\n===EXPLANATION===\\nThe temperature parameter manipulates the softmax outputs -\\nA large temperature makes the probability of each token more even so we end up\\nwith more random and diverse sample, with potentially more mistakes.\\n'"
            ]
          },
          "metadata": {
            "tags": []
          },
          "execution_count": 15
        }
      ]
    },
    {
      "cell_type": "markdown",
      "metadata": {
        "id": "S7Gk3SsM5nDq"
      },
      "source": [
        "## Question 3\n",
        "\n",
        "It turns out that getting good results from a text auto-encoder is very difficult,\n",
        "and that it is very easy for our model to **overfit**. We have discussed several methods\n",
        "that we can use to prevent overfitting, and we'll introduce one more today:\n",
        "**data augmentation**.\n",
        "\n",
        "The idea behind data augmentation is to artificially increase the number of training\n",
        "examples by \"adding noise\" to the image. For example, during AlexNet training,\n",
        "the authors randomly cropped $224\\times 224$\n",
        "regions of a $256 \\times 256$ pixel image to increase the amount of training data.\n",
        "The authors also flipped the image left/right (but not up/down---why?).\n",
        "Machine learning practitioners can also add Gaussian noise to the image.\n",
        "\n",
        "When we use data augmentation to train an *autoencoder*, we typically to only add\n",
        "the noise to the input, and expect the reconstruction to be *noise free*.\n",
        "This makes the task of the autoencoder even more difficult. An autoencoder trained\n",
        "with noisy inputs is called a **denoising auto-encoder**. For simplicity, we will\n",
        "*not* build a denoising autoencoder today.\n",
        "\n",
        "### Part (a) -- 3pt\n",
        "\n",
        "Give three more examples of data augmentation techniques that we could use if\n",
        "we were training an **image** autoencoder. What are different ways that we can\n",
        "change our input?"
      ]
    },
    {
      "cell_type": "code",
      "metadata": {
        "id": "9390x7365nDs",
        "colab": {
          "base_uri": "https://localhost:8080/",
          "height": 34
        },
        "outputId": "2a6f0e45-f2b4-4da3-bf8a-155bcdbcb0d2"
      },
      "source": [
        "# Include your three answers\n",
        "\"\"\"\n",
        "1. Translate image in a direction\n",
        "2. Rotate image\n",
        "3. Alter intensities of RGB channels\n",
        "\"\"\""
      ],
      "execution_count": null,
      "outputs": [
        {
          "output_type": "execute_result",
          "data": {
            "text/plain": [
              "'\\n1. Translate image in a direction\\n2. Rotate image\\n3. Alter intensities of RGB channels\\n'"
            ]
          },
          "metadata": {
            "tags": []
          },
          "execution_count": 15
        }
      ]
    },
    {
      "cell_type": "markdown",
      "metadata": {
        "id": "ZCD29oDl5nD1"
      },
      "source": [
        "### Part (b) -- 2pt\n",
        "\n",
        "We will add noise to our headlines using a few different techniques:\n",
        "\n",
        "1. Shuffle the words in the headline, taking care that words don't end up too far from where they were initially\n",
        "2. Drop (remove) some words \n",
        "3. Replace some words with a blank word (a `<pad>` token)\n",
        "4. Replace some words with a random word \n",
        "\n",
        "The code for adding these types of noise is provided for you:"
      ]
    },
    {
      "cell_type": "code",
      "metadata": {
        "id": "5DHvqFif5nD1"
      },
      "source": [
        "def tokenize_and_randomize(headline,\n",
        "                           drop_prob=0.1,  # probability of dropping a word\n",
        "                           blank_prob=0.1, # probability of \"blanking\" out a word\n",
        "                           sub_prob=0.1,   # probability of substituting a word with a random one\n",
        "                           shuffle_dist=3): # maximum distance to shuffle a word\n",
        "    \"\"\"\n",
        "    Add 'noise' to a headline by slightly shuffling the word order,\n",
        "    dropping some words, blanking out some words (replacing with the <pad> token)\n",
        "    and substituting some words with random ones.\n",
        "    \"\"\"\n",
        "    headline = [vocab.stoi[w] for w in headline.split()]\n",
        "    n = len(headline)\n",
        "    # shuffle\n",
        "    headline = [headline[i] for i in get_shuffle_index(n, shuffle_dist)]\n",
        "\n",
        "    new_headline = [vocab.stoi['<bos>']]\n",
        "    for w in headline:\n",
        "        if random.random() < drop_prob:\n",
        "            # drop the word\n",
        "            pass\n",
        "        elif random.random() < blank_prob:\n",
        "            # replace with blank word\n",
        "            new_headline.append(vocab.stoi[\"<pad>\"])\n",
        "        elif random.random() < sub_prob:\n",
        "            # substitute word with another word\n",
        "            new_headline.append(random.randint(0, vocab_size - 1))\n",
        "        else:\n",
        "            # keep the original word\n",
        "            new_headline.append(w)\n",
        "    new_headline.append(vocab.stoi['<eos>'])\n",
        "    return new_headline\n",
        "\n",
        "def get_shuffle_index(n, max_shuffle_distance):\n",
        "    \"\"\" This is a helper function used to shuffle a headline with n words,\n",
        "    where each word is moved at most max_shuffle_distance. The function does\n",
        "    the following: \n",
        "       1. start with the *unshuffled* index of each word, which\n",
        "          is just the values [0, 1, 2, ..., n]\n",
        "       2. perturb these \"index\" values by a random floating-point value between\n",
        "          [0, max_shuffle_distance]\n",
        "       3. use the sorted position of these values as our new index\n",
        "    \"\"\"\n",
        "    index = np.arange(n)\n",
        "    perturbed_index = index + np.random.rand(n) * 3\n",
        "    new_index = sorted(enumerate(perturbed_index), key=lambda x: x[1])\n",
        "    return [index for (index, pert) in new_index]"
      ],
      "execution_count": null,
      "outputs": []
    },
    {
      "cell_type": "markdown",
      "metadata": {
        "id": "oW1J51ye5nD6"
      },
      "source": [
        "Call the function `tokenize_and_randomize` 5 times on a headline of your\n",
        "choice. Make sure to include both your original headline, and the five new\n",
        "headlines in your report."
      ]
    },
    {
      "cell_type": "code",
      "metadata": {
        "id": "9X1YW7Lh5nD7",
        "colab": {
          "base_uri": "https://localhost:8080/",
          "height": 170
        },
        "outputId": "482e8aac-f2bb-437f-820d-909cd4306626"
      },
      "source": [
        "# Report your values here. Make sure that you report the actual values,\n",
        "# and not just the code used to get those values\n",
        "headline = \" \".join(train_data[42].title[1:-1]) # exclude bos eos\n",
        "print(\"Original: \")\n",
        "print(headline)\n",
        "\n",
        "print(\"\\nNew: \")\n",
        "str_lst = [vocab.itos[token] for token in tokenize_and_randomize(headline)]\n",
        "print(\" \".join(str_lst))\n",
        "\n",
        "str_lst = [vocab.itos[token] for token in tokenize_and_randomize(headline)]\n",
        "print(\" \".join(str_lst))\n",
        "\n",
        "str_lst = [vocab.itos[token] for token in tokenize_and_randomize(headline)]\n",
        "print(\" \".join(str_lst))\n",
        "\n",
        "str_lst = [vocab.itos[token] for token in tokenize_and_randomize(headline)]\n",
        "print(\" \".join(str_lst))\n",
        "\n",
        "str_lst = [vocab.itos[token] for token in tokenize_and_randomize(headline)]\n",
        "print(\" \".join(str_lst))"
      ],
      "execution_count": null,
      "outputs": [
        {
          "output_type": "stream",
          "text": [
            "Original: \n",
            "zambian president swears in new army chief\n",
            "\n",
            "New: \n",
            "<bos> zambian <pad> president new <pad> <pad> chief <eos>\n",
            "<bos> zambian swears president in army wilt chief <eos>\n",
            "<bos> zambian president new army <pad> <eos>\n",
            "<bos> president swears <pad> new <pad> lease <eos>\n",
            "<bos> <pad> zambian in swears new army <pad> <eos>\n"
          ],
          "name": "stdout"
        }
      ]
    },
    {
      "cell_type": "markdown",
      "metadata": {
        "id": "W5l_RR4O5nD9"
      },
      "source": [
        "### Part (c) -- 3 pt\n",
        "\n",
        "The training code that we use to train the model is mostly provided for you. \n",
        "The only part we left blank are the parts from Q2(b). Complete the code,\n",
        "and train a new AutoEncoder model for 1 epoch. You can train your model\n",
        "for longer if you want, but training tend to take a long time,\n",
        "so we're only checking to see that your training loss is trending down.\n",
        "\n",
        "If you are using Google Colab, you can use a GPU for this portion.\n",
        "Go to \"Runtime\" => \"Change Runtime Type\"  and set \"Hardware acceleration\" to GPU.\n",
        "Your Colab session will restart.\n",
        "You can move your model to the GPU by typing `model.cuda()`, and move\n",
        "other tensors to GPU (e.g. `xs = xs.cuda()`). To move a model back to CPU,\n",
        "type `model.cpu`. To move a tensor back, use `xs = xs.cpu()`. For training,\n",
        "your model and inputs need to be on the *same device*."
      ]
    },
    {
      "cell_type": "code",
      "metadata": {
        "id": "m8yNkWuv5nD_",
        "colab": {
          "base_uri": "https://localhost:8080/",
          "height": 737
        },
        "outputId": "4bc4ec91-ef99-4bf0-c1c4-408c75c8e0f7"
      },
      "source": [
        "def train_autoencoder(model, batch_size=64, learning_rate=0.001, num_epochs=1):\n",
        "  model.cuda()\n",
        "  optimizer = optim.Adam(model.parameters(), lr=learning_rate)\n",
        "  criterion = nn.CrossEntropyLoss()\n",
        "\n",
        "  losses = []\n",
        "  for ep in range(num_epochs):\n",
        "    # We will perform data augmentation by re-reading the input each time\n",
        "    field = torchtext.data.Field(sequential=True,\n",
        "                                tokenize=tokenize_and_randomize, # <-- data augmentation\n",
        "                                include_lengths=True,\n",
        "                                batch_first=True,\n",
        "                                use_vocab=False, # <-- the tokenization function replaces this\n",
        "                                pad_token=vocab.stoi['<pad>'])\n",
        "    dataset = torchtext.data.TabularDataset(train_path, \"tsv\", [('title', field)])\n",
        "\n",
        "    # This BucketIterator will handle padding of sequences that are not of the same length\n",
        "    train_iter = torchtext.data.BucketIterator(dataset,\n",
        "                                              batch_size=batch_size,\n",
        "                                              sort_key=lambda x: len(x.title), # to minimize padding\n",
        "                                              repeat=False)\n",
        "    \n",
        "    for it, ((xs, lengths), _) in enumerate(train_iter):\n",
        "      xs = xs.cuda()\n",
        "      # Fill in the training code here  \n",
        "      optimizer.zero_grad()\n",
        "      output, hidden = model(xs[:,:-1]) # take out <eos> from input\n",
        "      target = xs[:,1:] # take out <bos> from target\n",
        "      loss = criterion(output.reshape(-1, vocab_size), # [seq_len,no_vocab]\n",
        "                      target.reshape(-1))              # [seq_len]   \n",
        "      loss.backward()\n",
        "      optimizer.step()\n",
        "\n",
        "      if (it+1) % 100 == 0:\n",
        "        losses.append(float(loss))\n",
        "        print(\"[Iter %d] Loss %f\" % (it+1, float(loss)))\n",
        "\n",
        "  plt.title(\"Training Curve\")\n",
        "  plt.plot(losses, label=\"Train\")\n",
        "  plt.xlabel(\"Epoch\")\n",
        "  plt.ylabel(\"Loss\")\n",
        "  plt.show()\n",
        "      # Optional: Compute and track validation loss\n",
        "      # val_loss = 0\n",
        "      # val_n = 0\n",
        "      # for it, ((xs, lengths), _) in enumerate(valid_iter):\n",
        "      #    zs = model(xs)\n",
        "      #    loss = None # TODO\n",
        "      #    val_loss += float(loss)\n",
        "\n",
        "# Include your training curve or output to show that your training loss is trending down\n",
        "model = AutoEncoder(vocab_size, 128, 128)\n",
        "train_autoencoder(model)"
      ],
      "execution_count": null,
      "outputs": [
        {
          "output_type": "stream",
          "text": [
            "[Iter 100] Loss 4.480561\n",
            "[Iter 200] Loss 4.219703\n",
            "[Iter 300] Loss 3.953588\n",
            "[Iter 400] Loss 3.509284\n",
            "[Iter 500] Loss 3.873543\n",
            "[Iter 600] Loss 3.841098\n",
            "[Iter 700] Loss 3.702840\n",
            "[Iter 800] Loss 3.406767\n",
            "[Iter 900] Loss 3.463033\n",
            "[Iter 1000] Loss 3.729003\n",
            "[Iter 1100] Loss 3.970057\n",
            "[Iter 1200] Loss 3.054894\n",
            "[Iter 1300] Loss 3.601360\n",
            "[Iter 1400] Loss 3.471292\n",
            "[Iter 1500] Loss 3.222801\n",
            "[Iter 1600] Loss 2.974148\n",
            "[Iter 1700] Loss 3.485328\n",
            "[Iter 1800] Loss 3.481172\n",
            "[Iter 1900] Loss 2.985933\n",
            "[Iter 2000] Loss 3.136920\n",
            "[Iter 2100] Loss 3.302219\n",
            "[Iter 2200] Loss 2.936310\n",
            "[Iter 2300] Loss 3.274471\n",
            "[Iter 2400] Loss 3.311696\n",
            "[Iter 2500] Loss 3.387685\n",
            "[Iter 2600] Loss 3.250388\n"
          ],
          "name": "stdout"
        },
        {
          "output_type": "display_data",
          "data": {
            "image/png": "[encoded data removed]",
            "text/plain": [
              "<Figure size 432x288 with 1 Axes>"
            ]
          },
          "metadata": {
            "tags": []
          }
        }
      ]
    },
    {
      "cell_type": "code",
      "metadata": {
        "id": "YxRaPpTKKKAa",
        "colab": {
          "base_uri": "https://localhost:8080/",
          "height": 425
        },
        "outputId": "50a9897a-e672-4a8f-de7d-52d2becc7a72"
      },
      "source": [
        "# Include the generated sequences and explanation in your PDF report.\n",
        "model.cpu()\n",
        "headline = train_data[10].title\n",
        "print(\"Original: \")\n",
        "print(headline)\n",
        "input_seq = torch.Tensor([vocab.stoi[w] for w in headline]).unsqueeze(0).long()\n",
        "hidden = model.encode(input_seq)\n",
        "\n",
        "print(\"\\nTemperature = 0.7:\")\n",
        "print(sample_sequence(model, hidden, temperature=0.7))\n",
        "print(sample_sequence(model, hidden, temperature=0.7))\n",
        "print(sample_sequence(model, hidden, temperature=0.7))\n",
        "print(sample_sequence(model, hidden, temperature=0.7))\n",
        "print(sample_sequence(model, hidden, temperature=0.7))\n",
        "\n",
        "print(\"\\nTemperature = 0.9:\")\n",
        "print(sample_sequence(model, hidden, temperature=0.9))\n",
        "print(sample_sequence(model, hidden, temperature=0.9))\n",
        "print(sample_sequence(model, hidden, temperature=0.9))\n",
        "print(sample_sequence(model, hidden, temperature=0.9))\n",
        "print(sample_sequence(model, hidden, temperature=0.9))\n",
        "\n",
        "print(\"\\nTemperature = 1.5:\")\n",
        "print(sample_sequence(model, hidden, temperature=1.5))\n",
        "print(sample_sequence(model, hidden, temperature=1.5))\n",
        "print(sample_sequence(model, hidden, temperature=1.5))\n",
        "print(sample_sequence(model, hidden, temperature=1.5))\n",
        "print(sample_sequence(model, hidden, temperature=1.5))\n",
        "\n",
        "\"\"\"\n",
        "===EXPLANATION===\n",
        "A small temperature assigns more probability to tokens with a higher logit\n",
        "so we may see repetitions of the same high probability sequence\n",
        "\"\"\""
      ],
      "execution_count": null,
      "outputs": [
        {
          "output_type": "stream",
          "text": [
            "Original: \n",
            "['<bos>', 'wall', 'street', 'rises', ',', 'limps', 'across', 'the', 'finish', 'line', 'of', 'a', 'turbulent', 'year', '<eos>']\n",
            "\n",
            "Temperature = 0.7:\n",
            "['wall', 'street', 'the', ',', 'expects', 'major', 'up', 'from', 'ahead', 'of', 'regulator', 'with']\n",
            "['wall', 'street', ',', 'but', 'option', 'arrest', 'with', 'of', 'huawei', 'zuma', 'turkey', 'power', 'to']\n",
            "['wall', 'street', ',', 'ahead', 'killed', 'agrees', 'higher', 'but', 'of', 'with', 'wife', 'cut']\n",
            "['wall', 'street', ',', 'with', 'some', 'of', 'deportation', 'open', 'voter', 'with', 'national']\n",
            "['wall', 'street', ',', 'tinto', 'the', 'up', 'saints', 'members', 'with', 'apple', 'of', 'campaign']\n",
            "\n",
            "Temperature = 0.9:\n",
            "['wall', 'street', ',', 'c.bank', 'bayer', 'the', 'pharma', 'action', 'ahead', 'deepens', 'with', 'resort', 'of']\n",
            "['wall', 'street', ',', 't', 'treasury', 'the', 'with', 'wr', 'ahead', 'with', '-source', 'of']\n",
            "['stocks', ',', 'britain', 'comments', 'the', 'cruise', 'fails', 'not', 'of', 'inflows', 'with', 'battleground']\n",
            "['wall', 'calls', ',', 'line', 'hong', 'kong', 'the', 'aug', 'out', 'of', 'ntsb', 'nuclear']\n",
            "['wall', 'street', ',', 'cvs', 'abu', 'of', 'murray', 'burgers', 'nhl', 'with', 'remarks', 'of', 'lion']\n",
            "\n",
            "Temperature = 1.5:\n",
            "['wall', 'cholesterol', 'wall', 'complaint', 'markets', ',', 'green', 'giants', 'judge', 'fintechs', 'implement', 'of', 'stimulus', 'of', 'source']\n",
            "['wall', 'street', 'collapse', 'outlook', 'fake', ',', 'latest', 'respects', 'strike', 'amro', 'of', 'shutdown', 'doubt', 'local', 'india', 'error']\n",
            "['stocks', 'wall', 'speed', 'over', 'defending', 'gear', ',', 'talks', 'z', 'troops', 'stream', 'avoiding', 'jobs', 'scotch']\n",
            "['political', 'trade', 'greens', '<unk>', 'forecast', 'wall', 'rusal', 'strategy', 'growing', 'woes', 'singles', 'with', 'elect']\n",
            "['wall', 'cautious', 'stocks', ',', 'half', 'universal', 'dow', \"'s\", 'deportation', 'chance', 'battle', 'of', 'cardinals', 'data']\n"
          ],
          "name": "stdout"
        },
        {
          "output_type": "execute_result",
          "data": {
            "text/plain": [
              "'\\n===EXPLANATION===\\nA small temperature assigns more probability to tokens with a higher logit\\nso we may see repetitions of the same high probability sequence\\n'"
            ]
          },
          "metadata": {
            "tags": []
          },
          "execution_count": 19
        }
      ]
    },
    {
      "cell_type": "markdown",
      "metadata": {
        "id": "8_nIzgy75nEB"
      },
      "source": [
        "### Part (d) -- 2 pt\n",
        "\n",
        "This model requires many epochs (>50) to train, and is quite slow without using a GPU.\n",
        "You can train a model yourself, or you can load the model weights that we have trained,\n",
        "and available on the course website https://www.cs.toronto.edu/~lczhang/321/files/p4model.pk (11MB).\n",
        "\n",
        "Assuming that your `AutoEncoder` is set up correctly, the following code should run without\n",
        "error."
      ]
    },
    {
      "cell_type": "code",
      "metadata": {
        "id": "rsEy6PDe5nEB",
        "colab": {
          "base_uri": "https://localhost:8080/",
          "height": 34
        },
        "outputId": "be114edf-7baf-427a-8ff1-221467522d9b"
      },
      "source": [
        "model = AutoEncoder(10000, 128, 128)\n",
        "checkpoint_path = '/content/gdrive/My Drive/CSC321/p4model.pk' # Update me\n",
        "model.load_state_dict(torch.load(checkpoint_path))"
      ],
      "execution_count": null,
      "outputs": [
        {
          "output_type": "execute_result",
          "data": {
            "text/plain": [
              "<All keys matched successfully>"
            ]
          },
          "metadata": {
            "tags": []
          },
          "execution_count": 20
        }
      ]
    },
    {
      "cell_type": "markdown",
      "metadata": {
        "id": "OjJ9KIHX5nED"
      },
      "source": [
        "Then, repeat your code from Q2(d), for `train_data[10].title`\n",
        "with temperature settings 0.7, 0.9, and 1.5.\n",
        "Explain why we generally don't want the temperature setting to\n",
        "be too **small**."
      ]
    },
    {
      "cell_type": "code",
      "metadata": {
        "id": "K68NInGz5nED",
        "colab": {
          "base_uri": "https://localhost:8080/",
          "height": 425
        },
        "outputId": "f88a7d3e-2bde-4812-f324-8236679eb886"
      },
      "source": [
        "# Include the generated sequences and explanation in your PDF report.\n",
        "headline = train_data[10].title\n",
        "print(\"Original: \")\n",
        "print(headline)\n",
        "input_seq = torch.Tensor([vocab.stoi[w] for w in headline]).unsqueeze(0).long()\n",
        "hidden = model.encode(input_seq)\n",
        "\n",
        "print(\"\\nTemperature = 0.7:\")\n",
        "print(sample_sequence(model, hidden, temperature=0.7))\n",
        "print(sample_sequence(model, hidden, temperature=0.7))\n",
        "print(sample_sequence(model, hidden, temperature=0.7))\n",
        "print(sample_sequence(model, hidden, temperature=0.7))\n",
        "print(sample_sequence(model, hidden, temperature=0.7))\n",
        "print(\"\\nTemperature = 0.9:\")\n",
        "print(sample_sequence(model, hidden, temperature=0.9))\n",
        "print(sample_sequence(model, hidden, temperature=0.9))\n",
        "print(sample_sequence(model, hidden, temperature=0.9))\n",
        "print(sample_sequence(model, hidden, temperature=0.9))\n",
        "print(sample_sequence(model, hidden, temperature=0.9))\n",
        "print(\"\\nTemperature = 1.5:\")\n",
        "print(sample_sequence(model, hidden, temperature=1.5))\n",
        "print(sample_sequence(model, hidden, temperature=1.5))\n",
        "print(sample_sequence(model, hidden, temperature=1.5))\n",
        "print(sample_sequence(model, hidden, temperature=1.5))\n",
        "print(sample_sequence(model, hidden, temperature=1.5))\n",
        "\n",
        "\"\"\"\n",
        "===EXPLANATION===\n",
        "A small temperature assigns more probability to tokens with a higher logit\n",
        "so we may see repetitions of the same high probability sequence\n",
        "\"\"\""
      ],
      "execution_count": null,
      "outputs": [
        {
          "output_type": "stream",
          "text": [
            "Original: \n",
            "['<bos>', 'wall', 'street', 'rises', ',', 'limps', 'across', 'the', 'finish', 'line', 'of', 'a', 'turbulent', 'year', '<eos>']\n",
            "\n",
            "Temperature = 0.7:\n",
            "['wall', 'street', 'rises', ',', 'limps', 'across', 'the', 'finish', 'line', 'of', 'a', 'highlights', 'cheers']\n",
            "['wall', 'street', 'rises', ',', 'limps', 'across', 'the', 'finish', 'line', 'of', 'a', 'turbulent', 'year']\n",
            "['wall', 'street', 'rises', ',', 'hut', 'protesters', 'race', 'hospital', 'will', 'fall', 'rail', 'america', 'fire']\n",
            "['wall', 'street', 'rises', ',', 'limps', 'die', 'win', 'at', 'of', 'sciences', 'but', 'presidential', 'revokes']\n",
            "['wall', 'street', 'rises', ',', 'limps', 'die', 'win', \"'s\", 'employees', '<pad>', 'but', 'january', 'questions']\n",
            "\n",
            "Temperature = 0.9:\n",
            "['wall', 'street', 'rises', ',', 'limps', 'die', 'win', 'at', 'menu', ':', 'libya', 'plants', 'wood']\n",
            "['wall', 'street', 'rises', ',', 'limps', 'die', 'win', \"'s\", 'number', 'pass', 'after', '<pad>', 'home']\n",
            "['wall', 'street', 'rises', ',', 'limps', 'across', 'the', 'finish', 'line', 'of', 'a', 'turbulent', 'year']\n",
            "['wall', 'street', 'rises', ',', 'limps', 'across', 'the', 'finish', 'line', 'of', 'a', 'highlights', 'cheers']\n",
            "['wall', 'street', 'rises', ',', 'hut', 'protesters', 'kvitova', 'block', 'second', ',', 'despite', 'but', 'post']\n",
            "\n",
            "Temperature = 1.5:\n",
            "['wall', 'street', 'rises', ',', 'limps', 'back', 'scandal', 'sentenced', 'to', 'hill', 'u.s.-china', 'fire', 'this']\n",
            "['wall', 'street', 'place', ',', 'helps', 'editor', 'form', 'south', 'two', 'metro', 'disperse', 'deal', 'recovery']\n",
            "['wall', 'street', 'rises', 'cancelled', 'downs', 'end', '<unk>', 'school', 'opts', 'to', 'rbi', 'jobs', '-']\n",
            "['wall', 'street', 'rises', ',', 'limps', 'australia', ',', 'care', 'against', 'leaders', '<pad>', 'surplus', 'in']\n",
            "['wall', 'street', 'rises', ',', 'limps', 'and', 'breakfast', 'catch', 'on', '<pad>', 'governor', '-sources', 'crunch']\n"
          ],
          "name": "stdout"
        },
        {
          "output_type": "execute_result",
          "data": {
            "text/plain": [
              "'\\n===EXPLANATION===\\nA small temperature assigns more probability to tokens with a higher logit\\nso we may see repetitions of the same high probability sequence\\n'"
            ]
          },
          "metadata": {
            "tags": []
          },
          "execution_count": 21
        }
      ]
    },
    {
      "cell_type": "markdown",
      "metadata": {
        "id": "Z7I6YRxP5nEF"
      },
      "source": [
        "## Question 4\n",
        "\n",
        "In parts 2-3, we've explored the decoder portion of the autoencoder. In this section,\n",
        "let's explore the **encoder**. In particular, the encoder RNN gives us \n",
        "embeddings of news headlines!\n",
        "\n",
        "First, let's load the **validation** data set:"
      ]
    },
    {
      "cell_type": "code",
      "metadata": {
        "id": "FkPEsJIJ5nEH"
      },
      "source": [
        "valid_data = torchtext.data.TabularDataset(\n",
        "    path=valid_path,                # data file path\n",
        "    format=\"tsv\",                   # fields are separated by a tab\n",
        "    fields=[('title', text_field)]) # list of fields (we have only one)"
      ],
      "execution_count": null,
      "outputs": []
    },
    {
      "cell_type": "markdown",
      "metadata": {
        "id": "3_HPzWFr5nEL"
      },
      "source": [
        "### Part (a) -- 2 pt\n",
        "\n",
        "Compute the embeddings of every item in the validation set. Then, store the\n",
        "result in a single PyTorch tensor of shape `[19046, 128]`, since there are\n",
        "19,046 headlines in the validation set."
      ]
    },
    {
      "cell_type": "code",
      "metadata": {
        "id": "-GZM539H5nEL",
        "colab": {
          "base_uri": "https://localhost:8080/",
          "height": 34
        },
        "outputId": "0e0e6aba-30c8-41bb-e657-4a516105c29d"
      },
      "source": [
        "# Write your code here\n",
        "# Show that your resulting PyTorch tensor has shape `[19046, 128]`\n",
        "embs = None\n",
        "for line in valid_data:\n",
        "  input = torch.Tensor([vocab.stoi[w] for w in line.title]).long().unsqueeze(0)\n",
        "  if embs == None:\n",
        "    embs = model.encode(input) # Shape:(num_layers*directions, batch, hidden_size)\n",
        "  else:\n",
        "    hidden = model.encode(input)\n",
        "    embs = torch.cat([embs, hidden], 1)\n",
        "\n",
        "embs = embs.squeeze(0) # removes first dimension of size 1\n",
        "print(embs.shape) # torch.Size([19046, 128])"
      ],
      "execution_count": null,
      "outputs": [
        {
          "output_type": "stream",
          "text": [
            "torch.Size([19046, 128])\n"
          ],
          "name": "stdout"
        }
      ]
    },
    {
      "cell_type": "markdown",
      "metadata": {
        "id": "bXHRxS9-5nEP"
      },
      "source": [
        "### Part (b) -- 2 pt\n",
        "\n",
        "Find the 5 closest headlines to the headline `valid_data[13]`. Use the\n",
        "cosine similarity to determine closeness. (Hint: You can use code from Project 2)"
      ]
    },
    {
      "cell_type": "code",
      "metadata": {
        "id": "H-g2huo9cIYe",
        "colab": {
          "base_uri": "https://localhost:8080/",
          "height": 170
        },
        "outputId": "bf64f9fd-5e78-4498-e6b7-82214c4b33d7"
      },
      "source": [
        "# Write your code here. Make sure to include the actual 5 closest headlines.\n",
        "# compute cosine similarity of every pair of headlines\n",
        "print(\"Original headline: \")\n",
        "print(valid_data[13].title)\n",
        "\n",
        "embs = embs.detach().numpy()\n",
        "norms = np.linalg.norm(embs, axis=1)\n",
        "headline_emb_norm = (embs.T / norms).T\n",
        "similarities = np.matmul(headline_emb_norm, headline_emb_norm.T)\n",
        "\n",
        "def get_nearest_neighbours(input_i, k=5):\n",
        "  \"\"\"Return the indices of the top k-elements of `valid_data` that are closests\n",
        "  to element `i` of the valid_data\n",
        "  \"\"\"\n",
        "  # sort the element of the training set by distance to the i-th\n",
        "  # element of val_xs\n",
        "  neighbours = sorted(enumerate(similarities[input_i,:]),\n",
        "                      key=lambda r: r[1],\n",
        "                      reverse=True)\n",
        "  # obtain the top k closest index and return it\n",
        "  neighbour_indices = [index for (index, dist) in neighbours[:k]]\n",
        "  print(\"\\n5 Closest headlines: \")\n",
        "  for i in neighbour_indices:\n",
        "    print(valid_data[i].title)\n",
        "\n",
        "get_nearest_neighbours(13)"
      ],
      "execution_count": null,
      "outputs": [
        {
          "output_type": "stream",
          "text": [
            "Original headline: \n",
            "['<bos>', 'asia', 'takes', 'heart', 'from', 'new', 'year', 'gains', 'in', 'u.s.', 'stock', 'futures', '<eos>']\n",
            "\n",
            "5 Closest headlines: \n",
            "['<bos>', 'asia', 'takes', 'heart', 'from', 'new', 'year', 'gains', 'in', 'u.s.', 'stock', 'futures', '<eos>']\n",
            "['<bos>', 'italy', \"'s\", 'salvini', 'loses', 'aura', 'of', 'invincibility', 'in', 'emilia', 'setback', '<eos>']\n",
            "['<bos>', 'saudi', ',', 'russia', 'look', 'to', 'seal', 'deeper', 'output', 'cuts', 'with', 'oil', 'producers', '<eos>']\n",
            "['<bos>', 'eu', 'orders', 'quarantine', 'for', 'staff', 'who', 'traveled', 'to', 'northern', 'italy', '<eos>']\n",
            "['<bos>', 'update', '_num_-italy', \"'s\", 'prime', 'minister', 'says', 'new', 'government', 'will', 'bicker', 'less', '<eos>']\n"
          ],
          "name": "stdout"
        }
      ]
    },
    {
      "cell_type": "markdown",
      "metadata": {
        "id": "k0jxvGe75nES"
      },
      "source": [
        "### Part (c) -- 2 pt\n",
        "\n",
        "Find the 5 closest headlines to another headline of your choice."
      ]
    },
    {
      "cell_type": "code",
      "metadata": {
        "id": "XLZVkFu45nES",
        "colab": {
          "base_uri": "https://localhost:8080/",
          "height": 170
        },
        "outputId": "a60ca624-02ab-4340-a540-790bbef9f073"
      },
      "source": [
        "# Write your code here. \n",
        "# Make sure to include the original headline and the 5 closest headlines.\n",
        "\n",
        "print(\"Original headline: \")\n",
        "print(valid_data[10].title)\n",
        "\n",
        "get_nearest_neighbours(10)"
      ],
      "execution_count": null,
      "outputs": [
        {
          "output_type": "stream",
          "text": [
            "Original headline: \n",
            "['<bos>', 'trump', 'invites', 'congressional', 'leaders', 'to', 'border', 'security', 'briefing', '-', 'source', '<eos>']\n",
            "\n",
            "5 Closest headlines: \n",
            "['<bos>', 'trump', 'invites', 'congressional', 'leaders', 'to', 'border', 'security', 'briefing', '-', 'source', '<eos>']\n",
            "['<bos>', 'trump', 'ask', 'congressional', 'leaders', 'to', 'return', 'for', 'shutdown', 'talks', 'on', 'friday', ':', 'lawmaker', '<eos>']\n",
            "['<bos>', 'trump', 'to', 'receive', 'update', 'on', 'border', 'security', 'bill', ':', 'official', '<eos>']\n",
            "['<bos>', 'trump', 'told', 'russians', 'in', '_num_', 'not', 'concerned', 'by', 'meddling', '-wapo', '<eos>']\n",
            "['<bos>', 'trump', 're-election', 'campaign', 'targeted', 'by', 'iran-linked', 'hackers', ':', 'sources', '<eos>']\n"
          ],
          "name": "stdout"
        }
      ]
    },
    {
      "cell_type": "markdown",
      "metadata": {
        "id": "RkZ5sm445nEU"
      },
      "source": [
        "### Part (d) -- 4 pts\n",
        "\n",
        "Choose two headlines from the validation set, and find their embeddings.\n",
        "We will **interpolate** between the two embeddings like we did in\n",
        "https://www.cs.toronto.edu/~lczhang/321/lec/autoencoder_notes.html\n",
        "\n",
        "Find 3 points, equally spaced between the embeddings of your headlines.\n",
        "If we let $e_0$ be the embedding of your first headline and $e_4$ be\n",
        "the embedding of your second headline, your three points should be:\n",
        "\n",
        "\\begin{align*}\n",
        "e_1 &=  0.75 e_0 + 0.25 e_4 \\\\\n",
        "e_2 &=  0.50 e_0 + 0.50 e_4 \\\\\n",
        "e_3 &=  0.25 e_0 + 0.75 e_4 \\\\\n",
        "\\end{align*}\n",
        "\n",
        "Decode each of $e_1$, $e_2$ and $e_3$ five times, with a temperature setting\n",
        "that shows some variation in the generated sequences, while generating sequences\n",
        "that makes sense."
      ]
    },
    {
      "cell_type": "code",
      "metadata": {
        "id": "sr6-VEee5nEU",
        "colab": {
          "base_uri": "https://localhost:8080/",
          "height": 459
        },
        "outputId": "da4fc56c-669c-4d15-d970-41bcee557a5b"
      },
      "source": [
        "# Write your code here. Include your generated sequences.\n",
        "# Indices of headlines, x and y\n",
        "\n",
        "line_1 = valid_data[10].title\n",
        "line_2 = valid_data[13].title\n",
        "\n",
        "x = torch.Tensor([vocab.stoi[w] for w in line_1]).long().unsqueeze(0)\n",
        "y = torch.Tensor([vocab.stoi[w] for w in line_2]).long().unsqueeze(0)\n",
        "e0 = model.encode(x)\n",
        "e4 = model.encode(y)\n",
        "\n",
        "e1 = 0.75*e0 + 0.25*e4\n",
        "e2 = 0.50*e0 + 0.50*e4\n",
        "e3 = 0.25*e0 + 0.75*e4\n",
        "\n",
        "print(\"e0: \")\n",
        "print(\" \".join(line_1[1:-1]))\n",
        "\n",
        "print(\"\\ne1, Temperature = 1:\")\n",
        "print(sample_sequence(model, e1))\n",
        "print(sample_sequence(model, e1))\n",
        "print(sample_sequence(model, e1))\n",
        "print(sample_sequence(model, e1))\n",
        "print(sample_sequence(model, e1))\n",
        "\n",
        "print(\"\\ne2, Temperature = 1:\")\n",
        "print(sample_sequence(model, e2))\n",
        "print(sample_sequence(model, e2))\n",
        "print(sample_sequence(model, e2))\n",
        "print(sample_sequence(model, e2))\n",
        "print(sample_sequence(model, e2))\n",
        "\n",
        "print(\"\\ne3, Temperature = 1:\")\n",
        "print(sample_sequence(model, e3))\n",
        "print(sample_sequence(model, e3))\n",
        "print(sample_sequence(model, e3))\n",
        "print(sample_sequence(model, e3))\n",
        "print(sample_sequence(model, e3))\n",
        "\n",
        "print(\"\\ne4: \")\n",
        "print(\" \".join(line_2[1:-1]))"
      ],
      "execution_count": null,
      "outputs": [
        {
          "output_type": "stream",
          "text": [
            "e0: \n",
            "trump invites congressional leaders to border security briefing - source\n",
            "\n",
            "e1, Temperature = 1:\n",
            "['trump', 'parents', 'director', 'to', 'border', 'vow', 'oil', 'due', 'source', 'paris']\n",
            "['trump', 'invites', 'deeper', 'to', 'lebanon', 'europe', 'compromise', 'in', 'minister', 'engine', '-']\n",
            "['trump', 'invites', 'see', 'left', 'to', 'protest', 'of', 'attacks', '-cfo', 'service']\n",
            "['trump', 'invites', 'climate', 'ground', 'to', 'outbreak', 'acted', 'of', '-', 'novak']\n",
            "['trump', 'invites', 'climate', 'ground', 'to', 'sudan', 'palestinians', ':', 'q2', 'havana']\n",
            "\n",
            "e2, Temperature = 1:\n",
            "['trump', 'portugal', 'removed', 'to', 'trash', 'crude', 'of', 'town', '_num_-8', 'keen']\n",
            "['trump', 'hiv', 'staff', 'be', 'to', 'despite', 'groups', 'high', 'parks', 'official']\n",
            "['trump', 'deciding', 'staff', 'to', 'spain', 'salvini', 'time', 'fourth', 'deal', 'istanbul']\n",
            "['trump', 'sfr', 'murdering', 'urges', 'as', '<pad>', 'security', 'all', 'below', 'prince']\n",
            "['trump', 'hiv', 'power', 'force', 'to', 'comedian', 'month', 'despite', 'toll', 'u.n']\n",
            "\n",
            "e3, Temperature = 1:\n",
            "['a', 'large', 'takes', 'west', 'on', 'issues', 'uk', 'four', 'despite', 'france', '<pad>']\n",
            "['asia', 'nominates', 'heart', 'oil', '<unk>', 'thousands', 'week', ';', 'snubs', 'falls']\n",
            "['asia', 'russian', 'hears', 'for', 'hit', 'killed', 'far-right', 'amid', 'to', 'few', '<pad>']\n",
            "['asia', 'try', 'left', 'activity', 'to', 'election', 'fourth', 'u.s.', 'snap', 'hynix']\n",
            "['trump', 'iphone', 'hears', 'of', 'in', 'eu', 'field', 'third-quarter', 'iran', '<pad>', 'restructuring']\n",
            "\n",
            "e4: \n",
            "asia takes heart from new year gains in u.s. stock futures\n"
          ],
          "name": "stdout"
        }
      ]
    }
  ]
}