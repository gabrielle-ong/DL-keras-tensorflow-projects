{
 "cells": [
  {
   "cell_type": "markdown",
   "metadata": {},
   "source": [
    "## ConvNet - dont need feature vectors"
   ]
  },
  {
   "cell_type": "code",
   "execution_count": 1,
   "metadata": {
    "collapsed": true
   },
   "outputs": [],
   "source": [
    "import pandas as pd\n",
    "import matplotlib.pyplot as plt\n",
    "import os\n",
    "import numpy as np\n",
    "import cv2\n",
    "\n",
    "%matplotlib inline"
   ]
  },
  {
   "cell_type": "markdown",
   "metadata": {},
   "source": [
    "## Load Data - X, Y"
   ]
  },
  {
   "cell_type": "code",
   "execution_count": 2,
   "metadata": {
    "collapsed": true
   },
   "outputs": [],
   "source": [
    "#Load the training and testing data, X is images, y are labels\n",
    "BASE_IM_DIR = '/Users/Gabrielle/Kaggle/dog_breeds/train'\n",
    "\n",
    "img_path_list = [file_name for file_name in os.listdir(BASE_IM_DIR) if file_name.endswith('jpg')]"
   ]
  },
  {
   "cell_type": "code",
   "execution_count": 6,
   "metadata": {
    "collapsed": true
   },
   "outputs": [
    {
     "name": "stdout",
     "output_type": "stream",
     "text": [
      "0\n",
      "100\n",
      "200\n",
      "300\n",
      "400\n",
      "500\n",
      "600\n",
      "700\n",
      "800\n",
      "900\n",
      "1000\n",
      "1100\n",
      "1200\n",
      "1300\n",
      "1400\n",
      "1500\n",
      "1600\n",
      "1700\n",
      "1800\n",
      "1900\n",
      "2000\n",
      "2100\n",
      "2200\n",
      "2300\n",
      "2400\n",
      "2500\n",
      "2600\n",
      "2700\n",
      "2800\n",
      "2900\n",
      "3000\n",
      "3100\n",
      "3200\n",
      "3300\n",
      "3400\n",
      "3500\n",
      "3600\n",
      "3700\n",
      "3800\n",
      "3900\n",
      "4000\n",
      "4100\n",
      "4200\n",
      "4300\n",
      "4400\n",
      "4500\n",
      "4600\n",
      "4700\n",
      "4800\n",
      "4900\n",
      "5000\n",
      "5100\n",
      "5200\n",
      "5300\n",
      "5400\n",
      "5500\n",
      "5600\n",
      "5700\n",
      "5800\n",
      "5900\n",
      "6000\n",
      "6100\n",
      "6200\n",
      "6300\n",
      "6400\n",
      "6500\n",
      "6600\n",
      "6700\n",
      "6800\n",
      "6900\n",
      "7000\n",
      "7100\n",
      "7200\n",
      "7300\n",
      "7400\n",
      "7500\n",
      "7600\n",
      "7700\n",
      "7800\n",
      "7900\n",
      "8000\n",
      "8100\n",
      "8200\n",
      "8300\n",
      "8400\n",
      "8500\n",
      "8600\n",
      "8700\n",
      "8800\n",
      "8900\n",
      "9000\n",
      "9100\n",
      "9200\n",
      "9300\n",
      "9400\n",
      "9500\n",
      "9600\n",
      "9700\n",
      "9800\n",
      "9900\n",
      "10000\n",
      "10100\n",
      "10200\n"
     ]
    }
   ],
   "source": [
    "img_list = []\n",
    "for im_ind, im_file_path in enumerate(img_path_list):\n",
    "    if im_ind % 100 ==0:\n",
    "        print (im_ind)\n",
    "    # reading the image\n",
    "    img = cv2.imread(os.path.join(BASE_IM_DIR, im_file_path))\n",
    "    # converting from bgr to rgb\n",
    "    img = cv2.cvtColor(img, cv2.COLOR_BGR2RGB)\n",
    "    # resizing\n",
    "    img = cv2.resize(img,(50,50))\n",
    "    # add dummy dimension\n",
    "    img_list.append(img)"
   ]
  },
  {
   "cell_type": "code",
   "execution_count": 48,
   "metadata": {
    "collapsed": true
   },
   "outputs": [],
   "source": [
    "labels_df = pd.read_csv('/Users/Gabrielle/Kaggle/dog_breeds/labels.csv') # id = image_name, breed = breed\n",
    "\n",
    "Y_list = []\n",
    "for im_path in img_path_list:\n",
    "    breed_label = str(labels_df[labels_df['id'] == im_path[:-4]]['breed'].values[0])\n",
    "    Y_list.append(breed_label)"
   ]
  },
  {
   "cell_type": "code",
   "execution_count": 66,
   "metadata": {
    "collapsed": true
   },
   "outputs": [],
   "source": [
    "X = np.array(img_list)\n",
    "Y = np.array(Y_list) # len(Y) == 10222"
   ]
  },
  {
   "cell_type": "markdown",
   "metadata": {},
   "source": [
    "### Normalising images"
   ]
  },
  {
   "cell_type": "code",
   "execution_count": 67,
   "metadata": {
    "collapsed": true
   },
   "outputs": [],
   "source": [
    "X = X.astype(np.float)\n",
    "X /= 255.0"
   ]
  },
  {
   "cell_type": "code",
   "execution_count": 68,
   "metadata": {},
   "outputs": [
    {
     "name": "stdout",
     "output_type": "stream",
     "text": [
      "(10222, 50, 50, 3) (10222,)\n"
     ]
    }
   ],
   "source": [
    "print(X.shape, Y.shape) # just checking. Dont need to add dummy dimensions because the photos are RGB (unlike the fasion MNIST greyscale)"
   ]
  },
  {
   "cell_type": "code",
   "execution_count": 73,
   "metadata": {},
   "outputs": [
    {
     "name": "stdout",
     "output_type": "stream",
     "text": [
      "120\n"
     ]
    }
   ],
   "source": [
    "print(len(set(Y))) # No of unique labels"
   ]
  },
  {
   "cell_type": "markdown",
   "metadata": {},
   "source": [
    "## After running conv_model.fit, we got an error \n",
    "`ValueError: Error when checking target: expected activation_23 to have shape (None, 120) but got array with shape (7155, 1)`\n",
    "=> need to one hot encode our labels (120 in total)"
   ]
  },
  {
   "cell_type": "code",
   "execution_count": 74,
   "metadata": {},
   "outputs": [
    {
     "name": "stdout",
     "output_type": "stream",
     "text": [
      "(10222, 120)\n"
     ]
    }
   ],
   "source": [
    "Y = pd.get_dummies(Y) # one-hot encoding\n",
    "print(Y.shape)"
   ]
  },
  {
   "cell_type": "markdown",
   "metadata": {},
   "source": [
    "## Split X Y into train val test"
   ]
  },
  {
   "cell_type": "code",
   "execution_count": 75,
   "metadata": {},
   "outputs": [
    {
     "name": "stdout",
     "output_type": "stream",
     "text": [
      "True\n"
     ]
    }
   ],
   "source": [
    "train_percent = 0.7\n",
    "val_percent = 0.2\n",
    "test_percent = 0.1\n",
    "\n",
    "total_samples = len(Y)\n",
    "\n",
    "train_index   = int(total_samples * train_percent)\n",
    "val_index     = int(total_samples * val_percent)\n",
    "test_index    = int(total_samples * test_percent)\n",
    "\n",
    "X_train = X[:train_index]\n",
    "X_val  = X[train_index: train_index + val_index]\n",
    "X_test  = X[train_index + val_index :]\n",
    "\n",
    "Y_train = Y[:train_index]\n",
    "Y_val   = Y[train_index: train_index + val_index]\n",
    "Y_test  = Y[train_index + val_index :]\n",
    "\n",
    "print(len(X_train) + len(X_val) + len(X_test) == len(X))\n"
   ]
  },
  {
   "cell_type": "code",
   "execution_count": 78,
   "metadata": {},
   "outputs": [
    {
     "name": "stdout",
     "output_type": "stream",
     "text": [
      "Train on 7155 samples, validate on 2044 samples\n",
      "Epoch 1/100\n",
      "7155/7155 [==============================] - 24s 3ms/step - loss: 4.8134 - acc: 0.0147 - val_loss: 4.6808 - val_acc: 0.0342\n",
      "Epoch 2/100\n",
      "7155/7155 [==============================] - 19s 3ms/step - loss: 4.0678 - acc: 0.1248 - val_loss: 4.4969 - val_acc: 0.0509\n",
      "Epoch 3/100\n",
      "7155/7155 [==============================] - 19s 3ms/step - loss: 2.7813 - acc: 0.3895 - val_loss: 4.7404 - val_acc: 0.0558\n",
      "Epoch 4/100\n",
      "7155/7155 [==============================] - 19s 3ms/step - loss: 1.7104 - acc: 0.6274 - val_loss: 5.2511 - val_acc: 0.0587\n",
      "Epoch 5/100\n",
      "7155/7155 [==============================] - 20s 3ms/step - loss: 0.9946 - acc: 0.7976 - val_loss: 5.5713 - val_acc: 0.0572\n",
      "Epoch 6/100\n",
      "7155/7155 [==============================] - 20s 3ms/step - loss: 0.5822 - acc: 0.8889 - val_loss: 6.0059 - val_acc: 0.0509\n",
      "Epoch 00006: early stopping\n"
     ]
    }
   ],
   "source": [
    "from keras.models import Sequential\n",
    "from keras.layers.core import Dense, Dropout, Activation\n",
    "from keras.layers.convolutional import Convolution2D\n",
    "from keras.layers.pooling import MaxPooling2D\n",
    "from keras.layers.core import  Flatten\n",
    "from keras.callbacks import EarlyStopping\n",
    "early_stop = EarlyStopping(monitor='val_loss', patience=4, verbose=1) \n",
    "\n",
    "conv_model1 = Sequential()\n",
    "conv_model1.add(Convolution2D(\n",
    "                        filters=20,\n",
    "                        kernel_size=3,\n",
    "                        activation='relu',\n",
    "                        padding='valid', # take care of padding for me\n",
    "                        input_shape=(50, 50,3)))\n",
    "conv_model1.add(Activation('relu'))\n",
    "conv_model1.add(MaxPooling2D( pool_size = (2,2)))\n",
    "conv_model1.add(Dropout(0.5))\n",
    "conv_model1.add(Flatten())\n",
    "conv_model1.add(Dense(120))\n",
    "conv_model1.add(Activation('softmax'))\n",
    "\n",
    "conv_model1.compile(loss='categorical_crossentropy', # NOT BINARY_CROSSENTROPY\n",
    "              optimizer='adam', # ADAM\n",
    "              metrics=['accuracy'])\n",
    "\n",
    "history = conv_model1.fit(X_train, Y_train, batch_size=30, \n",
    "          epochs=100,verbose=1,\n",
    "          validation_data=(X_val, Y_val),\n",
    "          callbacks=[early_stop])"
   ]
  },
  {
   "cell_type": "code",
   "execution_count": 79,
   "metadata": {},
   "outputs": [
    {
     "data": {
      "text/plain": [
       "<matplotlib.legend.Legend at 0x14204cb70>"
      ]
     },
     "execution_count": 79,
     "metadata": {},
     "output_type": "execute_result"
    },
    {
     "data": {
      "image/png": "[encoded data removed]",
      "text/plain": [
       "<matplotlib.figure.Figure at 0x1421590b8>"
      ]
     },
     "metadata": {},
     "output_type": "display_data"
    }
   ],
   "source": [
    "plt.plot(history.history['loss'])\n",
    "plt.plot(history.history['val_loss'])\n",
    "plt.title('model accuracy')\n",
    "plt.ylabel('accuracy')\n",
    "plt.xlabel('epoch')\n",
    "plt.legend(['train', 'test'], loc='upper left')"
   ]
  },
  {
   "cell_type": "markdown",
   "metadata": {
    "collapsed": true
   },
   "source": [
    "### Well 0.8 accuracy sucks... probably because there are 120 labels. vs the other examples of CIFAR, MNIST - 10 labels only. Will have to train a better model"
   ]
  },
  {
   "cell_type": "code",
   "execution_count": null,
   "metadata": {
    "collapsed": true
   },
   "outputs": [],
   "source": []
  }
 ],
 "metadata": {
  "kernelspec": {
   "display_name": "Python 3",
   "language": "python",
   "name": "python3"
  },
  "language_info": {
   "codemirror_mode": {
    "name": "ipython",
    "version": 3
   },
   "file_extension": ".py",
   "mimetype": "text/x-python",
   "name": "python",
   "nbconvert_exporter": "python",
   "pygments_lexer": "ipython3",
   "version": "3.6.3"
  }
 },
 "nbformat": 4,
 "nbformat_minor": 2
}
