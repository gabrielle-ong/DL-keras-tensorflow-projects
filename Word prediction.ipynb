{
  "nbformat": 4,
  "nbformat_minor": 0,
  "metadata": {
    "colab": {
      "name": "p2_actual_real.ipynb",
      "provenance": [],
      "collapsed_sections": []
    },
    "kernelspec": {
      "name": "python3",
      "display_name": "Python 3"
    },
    "accelerator": "GPU"
  },
  "cells": [
    {
      "cell_type": "markdown",
      "metadata": {
        "id": "GfS_wiiDhr2G"
      },
      "source": [
        "\n",
        "\n",
        "\n",
        "\n"
      ]
    },
    {
      "cell_type": "markdown",
      "metadata": {
        "id": "9-wRMPab8fB4"
      },
      "source": [
        "# CSC321H5 Project 2 - Multi-Layer Perceptron + Word Embeddings. Predict next word in a sentence\n",
        "\n",
        "**Deadline**: Thursday, Feb. 13, by 9pm\n",
        "\n",
        "**Submission**: Submit a PDF export of the completed notebook. \n",
        "\n",
        "# Submitted By:\n",
        "\n",
        "*   Valerie June Loka (100 4900 495) lokavale\n",
        "*   Gabrielle Ong (100 4634 791) onggabr1\n",
        "\n",
        "**Late Submission**: Please see the syllabus for the late submission criteria.\n",
        "\n",
        "Based on an assignment by George Dahl, Jing Yao Li, and Roger Grosse\n",
        "\n",
        "In this assignment, we will make a neural network that can predict the next word\n",
        "in a sentence given the previous three. \n",
        "We'll explore a couple of different models to perform this prediction task. We will also do this\n",
        "problem twice: once in PyTorch, and once using numpy. When using numpy, you'll implement\n",
        "the backpropagation computation.\n",
        "\n",
        "In doing this prediction task, our neural networks will learn about *words* and about\n",
        "how to represent words. We'll explore the *vector representations* of words that our\n",
        "model produces, and analyze these representations.\n",
        "\n",
        "You may modify the starter code as you see fit, including changing the signatures of\n",
        "functions and adding/removing helper functions. However, please make sure that your\n",
        "TA can understand what you are doing and why."
      ]
    },
    {
      "cell_type": "code",
      "metadata": {
        "id": "DkCaX6_-8fB5"
      },
      "source": [
        "import pandas\n",
        "import numpy as np\n",
        "import matplotlib.pyplot as plt\n",
        "\n",
        "import torch\n",
        "import torch.nn as nn\n",
        "import torch.optim as optim"
      ],
      "execution_count": null,
      "outputs": []
    },
    {
      "cell_type": "markdown",
      "metadata": {
        "id": "iRNGC0dw8fCA"
      },
      "source": [
        "## Question 1. Data\n",
        "\n",
        "With any machine learning problem, the first thing that we would want to do\n",
        "is to get an intuitive understanding of what our data looks like. Download the file\n",
        "`raw_sentences.txt` from `https://www.cs.toronto.edu/~lczhang/321/hw/raw_sentences.txt`\n",
        "and upload it to Google Drive.\n",
        "Then, mount Google Drive from your Google Colab notebook:"
      ]
    },
    {
      "cell_type": "code",
      "metadata": {
        "id": "QXeRwS_68fCD",
        "colab": {
          "base_uri": "https://localhost:8080/",
          "height": 34
        },
        "outputId": "38b115fe-1deb-4178-c475-77506e66f7d2"
      },
      "source": [
        "from google.colab import drive\n",
        "drive.mount('/content/gdrive', force_remount=False)"
      ],
      "execution_count": null,
      "outputs": [
        {
          "output_type": "stream",
          "text": [
            "Drive already mounted at /content/gdrive; to attempt to forcibly remount, call drive.mount(\"/content/gdrive\", force_remount=True).\n"
          ],
          "name": "stdout"
        }
      ]
    },
    {
      "cell_type": "markdown",
      "metadata": {
        "id": "k77mErJn8fCI"
      },
      "source": [
        "Find the path to `raw_sentences.txt`:"
      ]
    },
    {
      "cell_type": "code",
      "metadata": {
        "id": "qnhbaLAh8fCJ"
      },
      "source": [
        "file_path = 'gdrive/My Drive/Colab Notebooks/raw_sentences.txt'"
      ],
      "execution_count": null,
      "outputs": []
    },
    {
      "cell_type": "markdown",
      "metadata": {
        "id": "V7CS8Scb8fCL"
      },
      "source": [
        "You might find it helpful to know that you can run shell commands (like `ls`) by\n",
        "using `!` in Google Colab, like this:"
      ]
    },
    {
      "cell_type": "markdown",
      "metadata": {
        "id": "r2aK4VfE8fCU"
      },
      "source": [
        "The following code reads the sentences in our file, split each sentence into\n",
        "its individual words, and stores the sentences (list of words) in the\n",
        "variable `sentences`."
      ]
    },
    {
      "cell_type": "code",
      "metadata": {
        "id": "hefZ1I3d8fCV"
      },
      "source": [
        "sentences = []\n",
        "\n",
        "for line in open(file_path, 'r'):\n",
        "    words = line.split()\n",
        "    sentence = [word.lower() for word in words]\n",
        "    sentences.append(sentence)"
      ],
      "execution_count": null,
      "outputs": []
    },
    {
      "cell_type": "markdown",
      "metadata": {
        "id": "8d24gx5Y8fCZ"
      },
      "source": [
        "There are 97,162 sentences in total, and \n",
        "these sentences are composed of 250 distinct words."
      ]
    },
    {
      "cell_type": "code",
      "metadata": {
        "id": "pFrtWMl28fCa",
        "colab": {
          "base_uri": "https://localhost:8080/",
          "height": 52
        },
        "outputId": "9c3f418c-52a9-4d70-9b91-61aba7d7ae8b"
      },
      "source": [
        "vocab = set([w for s in sentences for w in s])\n",
        "print(len(sentences)) # 97162\n",
        "print(len(vocab)) # 250"
      ],
      "execution_count": null,
      "outputs": [
        {
          "output_type": "stream",
          "text": [
            "97162\n",
            "250\n"
          ],
          "name": "stdout"
        }
      ]
    },
    {
      "cell_type": "markdown",
      "metadata": {
        "id": "T5nH7Asn8fCe"
      },
      "source": [
        "We'll separate our data into training, validation, and test.\n",
        "We'll use `10,000 sentences for test, 10,000 for validation, and\n",
        "the rest for training."
      ]
    },
    {
      "cell_type": "code",
      "metadata": {
        "id": "_p3CzxCX8fCi"
      },
      "source": [
        "test, valid, train = sentences[:10000], sentences[10000:20000], sentences[20000:]"
      ],
      "execution_count": null,
      "outputs": []
    },
    {
      "cell_type": "markdown",
      "metadata": {
        "id": "CBwhUw8A8fCl"
      },
      "source": [
        "### Part (a) -- 2 pts\n",
        "\n",
        "Display 10 sentences in the training set.\n",
        "Explain how punctuations are treated in our word representation, and how words\n",
        "with apostrophes are represented."
      ]
    },
    {
      "cell_type": "code",
      "metadata": {
        "id": "yzCp2erq8fCn",
        "colab": {
          "base_uri": "https://localhost:8080/",
          "height": 72
        },
        "outputId": "00e731f2-586f-4fb6-af58-3ec15fafeb7c"
      },
      "source": [
        "# Your code goes here\n",
        "print(sentences[:10])\n",
        "'''\n",
        "words with apostrophes are represented as 2 words,\n",
        "the first being the portion before the apostrophy \n",
        "and the second being the apostrophy and the rest of the word after it.\n",
        "punctuations are represented as a separate word itself altogether\n",
        "'''\n",
        "# output:\n",
        "# [['no', ',', 'he', 'says', 'now', '.'], \n",
        "#  ['and', 'what', 'did', 'he', 'do', '?'],\n",
        "#  ['the', 'money', \"'s\", 'there', '.'], \n",
        "#  ['that', 'was', 'less', 'than', 'a', 'year', 'ago', '.'], \n",
        "#  ['but', 'he', 'made', 'only', 'the', 'first', '.'], \n",
        "#  ['there', \"'s\", 'still', 'time', 'for', 'them', 'to', 'do', 'it', '.'], \n",
        "#  ['but', 'he', 'should', 'nt', 'have', '.'], \n",
        "#  ['they', 'have', 'to', 'come', 'down', 'to', 'the', 'people', '.'], \n",
        "#  ['i', 'do', 'nt', 'know', 'where', 'that', 'is', '.'], \n",
        "#  ['no', ',', 'i', 'would', 'nt', '.']]"
      ],
      "execution_count": null,
      "outputs": [
        {
          "output_type": "stream",
          "text": [
            "[['no', ',', 'he', 'says', 'now', '.'], ['and', 'what', 'did', 'he', 'do', '?'], ['the', 'money', \"'s\", 'there', '.'], ['that', 'was', 'less', 'than', 'a', 'year', 'ago', '.'], ['but', 'he', 'made', 'only', 'the', 'first', '.'], ['there', \"'s\", 'still', 'time', 'for', 'them', 'to', 'do', 'it', '.'], ['but', 'he', 'should', 'nt', 'have', '.'], ['they', 'have', 'to', 'come', 'down', 'to', 'the', 'people', '.'], ['i', 'do', 'nt', 'know', 'where', 'that', 'is', '.'], ['no', ',', 'i', 'would', 'nt', '.']]\n"
          ],
          "name": "stdout"
        },
        {
          "output_type": "execute_result",
          "data": {
            "text/plain": [
              "'\\nwords with apostrophes are represented as 2 words,\\nthe first being the portion before the apostrophy \\nand the second being the apostrophy and the rest of the word after it.\\npunctuations are represented as a separate word itself altogether\\n'"
            ]
          },
          "metadata": {
            "tags": []
          },
          "execution_count": 7
        }
      ]
    },
    {
      "cell_type": "markdown",
      "metadata": {
        "id": "ZumOX0bW8fCp"
      },
      "source": [
        "### Part (b) -- 2 pts\n",
        "\n",
        "What are the 10 most common words in the vocabulary? How often does each of these\n",
        "words appear in the training sentences? Express the second quantity a percentage\n",
        "(i.e. number of occurences of the  word / total number of words in the training set).\n",
        "\n",
        "These are good quantities to compute, because one of the first things a machine learning\n",
        "model will learn is to predict the **most common** class. Getting a sense of the\n",
        "distribution of our data will help you understand our model's behaviour.\n",
        "\n",
        "You can use Python's `collections.Counter` class if you would like to."
      ]
    },
    {
      "cell_type": "code",
      "metadata": {
        "id": "WBKsEGBG8fCq",
        "colab": {
          "base_uri": "https://localhost:8080/",
          "height": 34
        },
        "outputId": "7148fdb6-f02f-4073-df34-513f8c451734"
      },
      "source": [
        "# Your code goes here\n",
        "import collections\n",
        "punct_lst = ['.', ',', ';', ':', '!', '?']\n",
        "\n",
        "words_list = []\n",
        "for sen in sentences:\n",
        "  for w in sen:\n",
        "    if w in vocab and w not in punct_lst:\n",
        "      words_list.append(w)\n",
        "ten_most_common = collections.Counter(words_list).most_common(10)\n",
        "print(ten_most_common)\n",
        "\n",
        "# output: \n",
        "# [('it', 29200), ('i', 22267), ('do', 20245), ('to', 19537), ('nt', 16460), \n",
        "# ('the', 15939), ('that', 15795), (\"'s\", 15734), ('he', 15387), ('you', 12780)]"
      ],
      "execution_count": null,
      "outputs": [
        {
          "output_type": "stream",
          "text": [
            "[('it', 29200), ('i', 22267), ('do', 20245), ('to', 19537), ('nt', 16460), ('the', 15939), ('that', 15795), (\"'s\", 15734), ('he', 15387), ('you', 12780)]\n"
          ],
          "name": "stdout"
        }
      ]
    },
    {
      "cell_type": "markdown",
      "metadata": {
        "id": "ok0VQs3T8fCt"
      },
      "source": [
        "### Part (c) -- 4 pts\n",
        "\n",
        "Complete the helper functions `convert_words_to_indices` and\n",
        "`generate_4grams`, so that the function `process_data` will take a \n",
        "list of sentences (i.e. list of list of words), and generate an \n",
        "$$N \\times 4$$ numpy matrix containing indices of 4 words that appear\n",
        "next to each other. You can use the constances `vocab`, `vocab_itos`,\n",
        "and `vocab_stoi` in your code."
      ]
    },
    {
      "cell_type": "code",
      "metadata": {
        "id": "WQzAUM0H8fCt",
        "colab": {
          "base_uri": "https://localhost:8080/",
          "height": 70
        },
        "outputId": "988b99ba-1045-46c9-8fb3-8aeae698b6ce"
      },
      "source": [
        "# A list of all the words in the data set. We will assign a unique \n",
        "# identifier for each of these words.\n",
        "vocab = sorted(list(set([w for s in train for w in s])))\n",
        "# A mapping of index => word (string)\n",
        "vocab_itos = dict(enumerate(vocab))\n",
        "# A mapping of word => its index\n",
        "vocab_stoi = {word:index for index, word in vocab_itos.items()}\n",
        "\n",
        "def convert_words_to_indices(sents):\n",
        "    \"\"\"\n",
        "    This function takes a list of sentences (list of list of words)\n",
        "    and returns a new list with the same structure, but where each word\n",
        "    is replaced by its index in `vocab_stoi`.\n",
        "\n",
        "    Example:\n",
        "    >>> convert_words_to_indices([['one', 'in', 'five', 'are', 'over', 'here'],\n",
        "    ['other', 'one', 'since', 'yesterday'], ['you']])\n",
        "    [[148, 98, 70, 23, 154, 89], [151, 148, 181, 246], [248]]\n",
        "    \"\"\"\n",
        "    # Write your code here\n",
        "    index_list = [] # this is the final answer\n",
        "    for sen in sents: # a sublist\n",
        "      index_sublist = []\n",
        "      for word in sen: # a word in a sublist\n",
        "        index_sublist.append(vocab_stoi[word])\n",
        "      index_list.append(index_sublist)\n",
        "    return index_list\n",
        "\n",
        "def generate_4grams(seqs):\n",
        "    \"\"\"\n",
        "    This function takes a list of sentences (list of lists) and returns\n",
        "    a new list containing the 4-grams (four consequentively occuring words)\n",
        "    that appear in the sentences. Note that a unique 4-gram can appear multiple\n",
        "    times, one per each time that the 4-gram appears in the data parameter `seqs`.\n",
        "\n",
        "    Example:\n",
        "\n",
        "    >>> generate_4grams([[148, 98, 70, 23, 154, 89], [151, 148, 181, 246], [248]])\n",
        "    [[148, 98, 70, 23], [98, 70, 23, 154], [70, 23, 154, 89], [151, 148, 181, 246]]\n",
        "    >>> generate_4grams([[1, 1, 1, 1, 1]])\n",
        "    [[1, 1, 1, 1], [1, 1, 1, 1]]\n",
        "    \"\"\"\n",
        "\n",
        "    # Write your code here\n",
        "    final_lst = []\n",
        "    \n",
        "    for sub in seqs:\n",
        "        for i in range(len(sub)):\n",
        "            if i <= len(sub) - 4 and len(sub) >= 4: # check valid position of el\n",
        "                final_lst.append(sub[i:i+4])\n",
        "    return final_lst\n",
        "\n",
        "def process_data(sents):\n",
        "    \"\"\"\n",
        "    This function takes a list of sentences (list of lists), and generates an\n",
        "    numpy matrix with shape [N, 4] containing indices of words in 4-grams.\n",
        "    (containing indices of 4 words that appear next to each other)\n",
        "    \"\"\"\n",
        "    indices = convert_words_to_indices(sents)\n",
        "    fourgrams = generate_4grams(indices)\n",
        "    return np.array(fourgrams)\n",
        "\n",
        "train4grams = process_data(train)\n",
        "valid4grams = process_data(valid)\n",
        "test4grams = process_data(test)\n",
        "\n",
        "### DOC TESTS ###\n",
        "\n",
        "print(convert_words_to_indices([['one', 'in', 'five', 'are', 'over', 'here'],\n",
        "                                ['other', 'one', 'since', 'yesterday'], ['you']\n",
        "                                ]))\n",
        "print(generate_4grams([[148, 98, 70, 23, 154, 89], [151, 148, 181, 246], [248]]\n",
        "                      ))\n",
        "print(generate_4grams([[1, 1, 1, 1, 1]]))\n",
        "# output\n",
        "#[[148, 98, 70, 23, 154, 89], [151, 148, 181, 246], [248]]\n",
        "#[[148, 98, 70, 23], [98, 70, 23, 154], [70, 23, 154, 89], [151, 148, 181, 246]]\n",
        "#[[1, 1, 1, 1], [1, 1, 1, 1]]"
      ],
      "execution_count": null,
      "outputs": [
        {
          "output_type": "stream",
          "text": [
            "[[148, 98, 70, 23, 154, 89], [151, 148, 181, 246], [248]]\n",
            "[[148, 98, 70, 23], [98, 70, 23, 154], [70, 23, 154, 89], [151, 148, 181, 246]]\n",
            "[[1, 1, 1, 1], [1, 1, 1, 1]]\n"
          ],
          "name": "stdout"
        }
      ]
    },
    {
      "cell_type": "markdown",
      "metadata": {
        "id": "w1tqh1Z_8fCx"
      },
      "source": [
        "## Question 2. A Multi-Layer Perceptron\n",
        "\n",
        "In this section, we will build a two-layer multi-layer perceptron.\n",
        "We will first do this in numpy, and then once more in PyTorch.\n",
        "Our model will look like this:\n",
        "\n",
        "<img src=\"https://www.cs.toronto.edu/~lczhang/321/hw/p2_model1.png\" />\n",
        "\n",
        "Start by reviewing these helper functions, which are given to you:"
      ]
    },
    {
      "cell_type": "code",
      "metadata": {
        "id": "BmTx3erC8fCy"
      },
      "source": [
        "def make_onehot(indicies, total=250): \n",
        "  # spits out a 2D matrix of one-hot vectors (represented by the columns) of \n",
        "  # each word in the sentence, HENCE THE PARAM INDICES\n",
        "    \"\"\"\n",
        "    Convert indicies into one-hot vectors by\n",
        "        1. Creating an identity matrix of shape [total, total]\n",
        "        2. Indexing the appropriate columns of that identity matrix\n",
        "    \"\"\"\n",
        "    I = np.eye(total)\n",
        "    return I[indicies]\n",
        "\n",
        "def softmax(x):\n",
        "    \"\"\"\n",
        "    Compute the softmax of vector x, or row-wise for a matrix x.\n",
        "    We subtract x.max(axis=0) from each row for numerical stability.\n",
        "    \"\"\"\n",
        "    x = x.T\n",
        "    exps = np.exp(x - x.max(axis=0))\n",
        "    probs = exps / np.sum(exps, axis=0)\n",
        "    return probs.T\n",
        "\n",
        "def get_batch(data, range_min, range_max, onehot=True):\n",
        "    \"\"\"\n",
        "    Convert one batch of data in the form of 4-grams into input and output\n",
        "    data and return the training data (xs, ts) where:\n",
        "     - `xs` is an numpy array of one-hot vectors of shape [batch_size, 3, 250]\n",
        "     - `ts` is either\n",
        "            - a numpy array of shape [batch_size, 250] if onehot is True,\n",
        "            - a numpy array of shape [batch_size] containing indicies otherwise\n",
        "\n",
        "    Preconditions:\n",
        "     - `data` is a numpy array of shape [N, 4] produced by a call\n",
        "        to `process_data`\n",
        "     - range_max > range_min\n",
        "    \"\"\"\n",
        "    xs = data[range_min:range_max, :3]\n",
        "    xs = make_onehot(xs)\n",
        "    ts = data[range_min:range_max, 3]\n",
        "    if onehot:\n",
        "        ts = make_onehot(ts).reshape(-1, 250)\n",
        "    return xs, ts\n",
        "\n",
        "def estimate_accuracy(model, data, batch_size=5000, max_N=100000):\n",
        "    \"\"\"\n",
        "    Estimate the accuracy of the model on the data. To reduce\n",
        "    computation time, use at most `max_N` elements of `data` to\n",
        "    produce the estimate.\n",
        "    \"\"\"\n",
        "    correct = 0\n",
        "    N = 0\n",
        "    for i in range(0, data.shape[0], batch_size):\n",
        "        xs, ts = get_batch(data, i, i + batch_size, onehot=False)\n",
        "        y = model(xs)\n",
        "        pred = np.argmax(y, axis=1)\n",
        "        correct += np.sum(ts == pred)\n",
        "        N += ts.shape[0]\n",
        "\n",
        "        if N > max_N:\n",
        "            break\n",
        "    return correct / N"
      ],
      "execution_count": null,
      "outputs": []
    },
    {
      "cell_type": "markdown",
      "metadata": {
        "id": "2Gp2vxCO8fC2"
      },
      "source": [
        "### Part (a) -- 2 point\n",
        "\n",
        "Your first task is to implement MLP model in Numpy.\n",
        "This model is very similar to the one we built in Tutorial 5. However, we will\n",
        "write our code differently from Tutorial 5, so that the class methods and APIs\n",
        "are similar to that of PyTorch. This is to give you some intuition about what\n",
        "PyTorch is doing under the hood.\n",
        "\n",
        "We already wrote code for the backward pass for this model in Tutorial 5, so the\n",
        "code is given to you. To make sure you understand how the model works, \n",
        "**write the code to compute the forward pass**."
      ]
    },
    {
      "cell_type": "code",
      "metadata": {
        "id": "2sLm8vP98fC5"
      },
      "source": [
        "  class NumpyMLPModel(object):\n",
        "    def __init__(self, num_features=250*3, num_hidden=400, num_classes=250):\n",
        "        \"\"\"\n",
        "        Initialize the weights and biases of this two-layer MLP.\n",
        "        \"\"\"\n",
        "        self.num_features = num_features\n",
        "        self.num_hidden = num_hidden\n",
        "        self.num_classes = num_classes\n",
        "        self.weights1 = np.zeros([num_hidden, num_features])\n",
        "        self.bias1 = np.zeros([num_hidden])\n",
        "        self.weights2 = np.zeros([num_classes, num_hidden])\n",
        "        self.bias2 = np.zeros([num_classes])\n",
        "        self.cleanup()\n",
        "\n",
        "    def initializeParams(self):\n",
        "        \"\"\"\n",
        "        Initialize the weights and biases of this two-layer MLP to be random.\n",
        "        This random initialization is necessary to break the symmetry in the\n",
        "        gradient descent update for our hidden weights and biases. If all our\n",
        "        weights were initialized to the same value, then their gradients will\n",
        "        all be the same!\n",
        "        \"\"\"\n",
        "        self.weights1 = np.random.normal(0, 2/self.num_features, \n",
        "                                         self.weights1.shape)\n",
        "        self.bias1 = np.random.normal(0, 2/self.num_features, self.bias1.shape)\n",
        "        self.weights2 = np.random.normal(0, 2/self.num_hidden, \n",
        "                                         self.weights2.shape)\n",
        "        self.bias2 = np.random.normal(0, 2/self.num_hidden, self.bias2.shape)\n",
        "\n",
        "    def forward(self, inputs):\n",
        "        \"\"\"\n",
        "        Compute the forward pass prediction for inputs.\n",
        "        Note that `inputs` will be a rank-3 numpy array with shape [N, 3, 250],\n",
        "        so we will need to flatten the tensor to [N, 750] first.\n",
        "\n",
        "        For the ReLU activation, you may find the function `np.maximum` helpful\n",
        "        \"\"\"\n",
        "        X = inputs.reshape([-1, 750])\n",
        "\n",
        "        # TODO:\n",
        "        self.N = X.shape[0]\n",
        "        self.X = X\n",
        "        self.z1 = np.dot(self.X, self.weights1.T) + self.bias1\n",
        "        self.h = np.maximum(self.z1, 0)\n",
        "        self.z2 = np.dot(self.h, self.weights2.T) + self.bias2\n",
        "        self.y = softmax(self.z2)\n",
        "        return self.y\n",
        "\n",
        "    def __call__(self, inputs):\n",
        "        \"\"\"\n",
        "        To be compatible with PyTorch API. With this code, the following two\n",
        "        calls are identical:\n",
        "\n",
        "        >>> m = TwoLayerMLP()\n",
        "        >>> m.forward(inputs)\n",
        "\n",
        "        and \n",
        "\n",
        "        >>> m = TwoLayerMLP()\n",
        "        >>> m(inputs)\n",
        "        \"\"\"\n",
        "        return self.forward(inputs)\n",
        "\n",
        "    def backward(self, ts):\n",
        "        \"\"\"\n",
        "        Compute the backward pass, given the ground-truth, one-hot targets.\n",
        "        Note that `ts` needs to be a rank 2 numpy array with shape [N, 250].\n",
        "        \"\"\"\n",
        "        self.z2_bar = (self.y - ts) / self.N\n",
        "        self.w2_bar = np.dot(self.z2_bar.T, self.h)\n",
        "        self.b2_bar = np.dot(self.z2_bar.T, np.ones(self.N))\n",
        "        self.h_bar = np.matmul(self.z2_bar, self.weights2)\n",
        "        self.z1_bar = self.h_bar * (self.z1 > 0)\n",
        "        self.w1_bar = np.dot(self.z1_bar.T, self.X)\n",
        "        self.b1_bar = np.dot(self.z1_bar.T, np.ones(self.N))\n",
        "\n",
        "    def update(self, alpha):\n",
        "        \"\"\"\n",
        "        Compute the gradient descent update for the parameters.\n",
        "        \"\"\"\n",
        "        self.weights1 = self.weights1 - alpha * self.w1_bar\n",
        "        self.bias1    = self.bias1    - alpha * self.b1_bar\n",
        "        self.weights2 = self.weights2 - alpha * self.w2_bar\n",
        "        self.bias2    = self.bias2    - alpha * self.b2_bar\n",
        "\n",
        "    def cleanup(self):\n",
        "        \"\"\"\n",
        "        Erase the values of the variables that we use in our computation.\n",
        "        \"\"\"\n",
        "        self.N = None\n",
        "        self.X = None\n",
        "        self.z1 = None\n",
        "        self.h = None\n",
        "        self.z2 = None\n",
        "        self.y = None\n",
        "        self.z2_bar = None\n",
        "        self.w2_bar = None\n",
        "        self.b2_bar = None\n",
        "        self.h_bar = None\n",
        "        self.z1_bar = None\n",
        "        self.w1_bar = None\n",
        "        self.b1_bar = None"
      ],
      "execution_count": null,
      "outputs": []
    },
    {
      "cell_type": "markdown",
      "metadata": {
        "id": "WDvt7p948fC9"
      },
      "source": [
        "### Part (b) -- 2 points\n",
        "\n",
        "Complete the `run_gradient_descent` function. Train your numpy MLP model \n",
        "to obtain a training accuracy of at least 25%. You do not need to train\n",
        "this model to convergence."
      ]
    },
    {
      "cell_type": "code",
      "metadata": {
        "id": "y69pZBiU8fC-",
        "colab": {
          "base_uri": "https://localhost:8080/",
          "height": 905
        },
        "outputId": "d880bfc9-33b4-4ff3-86e6-c19e0ba696b4"
      },
      "source": [
        "def run_gradient_descent(model,\n",
        "                         train_data=train4grams,\n",
        "                         validation_data=valid4grams,\n",
        "                         batch_size=100,\n",
        "                         learning_rate=0.1,\n",
        "                         max_iters=5000):\n",
        "    \"\"\"\n",
        "    Use gradient descent to train the numpy model on the dataset train4grams.\n",
        "    \"\"\"\n",
        "    n = 0\n",
        "    while n < max_iters:\n",
        "        # shuffle the training data, and break early if we don't have\n",
        "        # enough data to remaining in the batch\n",
        "        np.random.shuffle(train_data)\n",
        "        for i in range(0, train_data.shape[0], batch_size):\n",
        "            if (i + batch_size) > train_data.shape[0]:\n",
        "                break\n",
        "\n",
        "            # get the input and targets of a minibatch\n",
        "            xs, ts = get_batch(train_data, i, i + batch_size, onehot=True)\n",
        "\n",
        "            # forward pass: compute prediction\n",
        "            # TODO: add your code here\n",
        "            y = model.forward(xs)\n",
        "\n",
        "            # backward pass: compute error \n",
        "            # TODO: add your code here\n",
        "            model.backward(ts)\n",
        "            model.update(learning_rate)\n",
        "            # increment the iteration count\n",
        "            n += 1\n",
        "\n",
        "            # compute and plot the *validation* loss and accuracy\n",
        "            if (n % 100 == 0):\n",
        "                train_cost = -np.sum(ts * np.log(y)) / batch_size\n",
        "                train_acc = estimate_accuracy(model, train_data)\n",
        "                val_acc = estimate_accuracy(model, validation_data)\n",
        "                model.cleanup() # prepares the model for the next set of inputs\n",
        "                print(\"Iter %d. [Val Acc %.0f%%] [Train Acc %.0f%%, Loss %f]\" \n",
        "                      % (n, val_acc * 100, train_acc * 100, train_cost))\n",
        "\n",
        "            if n >= max_iters:\n",
        "                return\n",
        "\n",
        "\n",
        "numpy_mlp = NumpyMLPModel()\n",
        "numpy_mlp.initializeParams()\n",
        "run_gradient_descent(numpy_mlp)"
      ],
      "execution_count": null,
      "outputs": [
        {
          "output_type": "stream",
          "text": [
            "Iter 100. [Val Acc 17%] [Train Acc 17%, Loss 5.159263]\n",
            "Iter 200. [Val Acc 17%] [Train Acc 17%, Loss 4.838502]\n",
            "Iter 300. [Val Acc 17%] [Train Acc 17%, Loss 4.769361]\n",
            "Iter 400. [Val Acc 17%] [Train Acc 17%, Loss 4.500966]\n",
            "Iter 500. [Val Acc 17%] [Train Acc 17%, Loss 4.355256]\n",
            "Iter 600. [Val Acc 17%] [Train Acc 17%, Loss 4.232298]\n",
            "Iter 700. [Val Acc 17%] [Train Acc 17%, Loss 4.690048]\n",
            "Iter 800. [Val Acc 17%] [Train Acc 17%, Loss 4.268546]\n",
            "Iter 900. [Val Acc 17%] [Train Acc 17%, Loss 4.265409]\n",
            "Iter 1000. [Val Acc 17%] [Train Acc 17%, Loss 4.221031]\n",
            "Iter 1100. [Val Acc 17%] [Train Acc 17%, Loss 4.123945]\n",
            "Iter 1200. [Val Acc 17%] [Train Acc 17%, Loss 4.477267]\n",
            "Iter 1300. [Val Acc 17%] [Train Acc 17%, Loss 4.351431]\n",
            "Iter 1400. [Val Acc 17%] [Train Acc 18%, Loss 4.468817]\n",
            "Iter 1500. [Val Acc 19%] [Train Acc 19%, Loss 4.107416]\n",
            "Iter 1600. [Val Acc 19%] [Train Acc 19%, Loss 3.988546]\n",
            "Iter 1700. [Val Acc 19%] [Train Acc 19%, Loss 4.363236]\n",
            "Iter 1800. [Val Acc 19%] [Train Acc 19%, Loss 4.176730]\n",
            "Iter 1900. [Val Acc 19%] [Train Acc 19%, Loss 4.490527]\n",
            "Iter 2000. [Val Acc 20%] [Train Acc 21%, Loss 4.393896]\n",
            "Iter 2100. [Val Acc 21%] [Train Acc 21%, Loss 4.512532]\n",
            "Iter 2200. [Val Acc 21%] [Train Acc 21%, Loss 4.095138]\n",
            "Iter 2300. [Val Acc 21%] [Train Acc 22%, Loss 4.108340]\n",
            "Iter 2400. [Val Acc 21%] [Train Acc 22%, Loss 4.049706]\n",
            "Iter 2500. [Val Acc 22%] [Train Acc 22%, Loss 4.410645]\n",
            "Iter 2600. [Val Acc 22%] [Train Acc 22%, Loss 3.936250]\n",
            "Iter 2700. [Val Acc 22%] [Train Acc 22%, Loss 3.582166]\n",
            "Iter 2800. [Val Acc 23%] [Train Acc 23%, Loss 3.888362]\n",
            "Iter 2900. [Val Acc 23%] [Train Acc 23%, Loss 4.168401]\n",
            "Iter 3000. [Val Acc 23%] [Train Acc 23%, Loss 3.772260]\n",
            "Iter 3100. [Val Acc 23%] [Train Acc 23%, Loss 4.124284]\n",
            "Iter 3200. [Val Acc 23%] [Train Acc 24%, Loss 3.773137]\n",
            "Iter 3300. [Val Acc 24%] [Train Acc 24%, Loss 3.898761]\n",
            "Iter 3400. [Val Acc 24%] [Train Acc 24%, Loss 3.876000]\n",
            "Iter 3500. [Val Acc 24%] [Train Acc 24%, Loss 3.813692]\n",
            "Iter 3600. [Val Acc 24%] [Train Acc 24%, Loss 3.962019]\n",
            "Iter 3700. [Val Acc 24%] [Train Acc 25%, Loss 3.510374]\n",
            "Iter 3800. [Val Acc 24%] [Train Acc 25%, Loss 3.816091]\n",
            "Iter 3900. [Val Acc 24%] [Train Acc 25%, Loss 3.635299]\n",
            "Iter 4000. [Val Acc 25%] [Train Acc 25%, Loss 3.759828]\n",
            "Iter 4100. [Val Acc 25%] [Train Acc 25%, Loss 3.663172]\n",
            "Iter 4200. [Val Acc 24%] [Train Acc 25%, Loss 3.648538]\n",
            "Iter 4300. [Val Acc 25%] [Train Acc 25%, Loss 3.873575]\n",
            "Iter 4400. [Val Acc 25%] [Train Acc 25%, Loss 3.673546]\n",
            "Iter 4500. [Val Acc 25%] [Train Acc 25%, Loss 3.804076]\n",
            "Iter 4600. [Val Acc 25%] [Train Acc 26%, Loss 3.351277]\n",
            "Iter 4700. [Val Acc 25%] [Train Acc 26%, Loss 3.738682]\n",
            "Iter 4800. [Val Acc 25%] [Train Acc 26%, Loss 3.441502]\n",
            "Iter 4900. [Val Acc 25%] [Train Acc 26%, Loss 3.816542]\n",
            "Iter 5000. [Val Acc 26%] [Train Acc 26%, Loss 3.529641]\n"
          ],
          "name": "stdout"
        }
      ]
    },
    {
      "cell_type": "markdown",
      "metadata": {
        "id": "j0nRcKa68fDC"
      },
      "source": [
        "### Part (c) -- 2 pts\n",
        "\n",
        "We will do build the same model in PyTorch. Since PyTorch uses automatic\n",
        "differentiation, we only need to write the *forward pass* of our\n",
        "model. Complete the `forward` function below:"
      ]
    },
    {
      "cell_type": "code",
      "metadata": {
        "id": "zUxpcQLH8fDD"
      },
      "source": [
        "class PyTorchMLP(nn.Module):\n",
        "    def __init__(self, num_hidden=400):\n",
        "        super(PyTorchMLP, self).__init__()\n",
        "        self.layer1 = nn.Linear(750, num_hidden)\n",
        "        self.layer2 = nn.Linear(num_hidden, 250)\n",
        "        self.num_hidden = num_hidden\n",
        "        \n",
        "    def forward(self, inp):\n",
        "        inp = inp.reshape([-1, 750])\n",
        "        # TODO: complete this function\n",
        "        h = torch.relu(self.layer1(inp))\n",
        "        return self.layer2(h)"
      ],
      "execution_count": null,
      "outputs": []
    },
    {
      "cell_type": "markdown",
      "metadata": {
        "id": "h6-9EQXT8fDG"
      },
      "source": [
        "### Part (d) -- 4 pts\n",
        "\n",
        "We'll write similar code to train the PyTorch model. With a few differences:\n",
        "\n",
        "1. We will use a slightly fancier optimizer called **Adam**. For this optimizer,\n",
        "   a smaller learning rate usually works better, so the default learning\n",
        "   rate is set to 0.001.\n",
        "2. Since we get weight decay for free, you are welcome to use weight decay.\n",
        "\n",
        "Complete the function `run_pytorch_gradient_descent`, and use it to train\n",
        "your PyTorch MLP model to obtain a training accuracy of at least 38%.\n",
        "Plot the learning curve using the `plot_learning_curve` function provided\n",
        "to you, and include your plot in your PDF submission."
      ]
    },
    {
      "cell_type": "code",
      "metadata": {
        "id": "aGPvjztj8fDG"
      },
      "source": [
        "def estimate_accuracy_torch(model, data, batch_size=5000, max_N=100000):\n",
        "    \"\"\"\n",
        "    Estimate the accuracy of the model on the data. To reduce\n",
        "    computation time, use at most `max_N` elements of `data` to\n",
        "    produce the estimate.\n",
        "    \"\"\"\n",
        "    correct = 0\n",
        "    N = 0\n",
        "    for i in range(0, data.shape[0], batch_size):\n",
        "        # get a batch of data\n",
        "        xs, ts = get_batch(data, i, i + batch_size, onehot=False)\n",
        "        \n",
        "        # forward pass prediction\n",
        "        y = model(torch.Tensor(xs))\n",
        "        y = y.detach().numpy() # convert the PyTorch tensor => numpy array\n",
        "        pred = np.argmax(y, axis=1)\n",
        "        correct += np.sum(pred == ts)\n",
        "        N += ts.shape[0]\n",
        "\n",
        "        if N > max_N:\n",
        "            break\n",
        "    return correct / N\n",
        "\n",
        "def run_pytorch_gradient_descent(model,\n",
        "                                 train_data=train4grams,\n",
        "                                 validation_data=valid4grams,\n",
        "                                 batch_size=100,\n",
        "                                 learning_rate=0.001,\n",
        "                                 weight_decay=0,\n",
        "                                 max_iters=5000,\n",
        "                                 checkpoint_path=None):\n",
        "    \"\"\"\n",
        "    Train the PyTorch model on the dataset `train_data`, reporting\n",
        "    the validation accuracy on `validation_data`, for `max_iters`\n",
        "    iteration.\n",
        "\n",
        "    If you want to **checkpoint** your model weights (i.e. save the\n",
        "    model weights to Google Drive), then the parameter\n",
        "    `checkpoint_path` should be a string path with `{}` to be replaced\n",
        "    by the iteration count:\n",
        "\n",
        "    For example, calling \n",
        "\n",
        "    >>> run_pytorch_gradient_descent(model, ...,\n",
        "            checkpoint_path = '/content/gdrive/My Drive/CSC321/mlp/ckpt-{}.pk')\n",
        "\n",
        "    will save the model parameters in Google Drive every 500 iterations.\n",
        "    You will have to make sure that the path exists (i.e. you'll need to create\n",
        "    the folder CSC321, mlp, etc...). Your Google Drive will be populated with files:\n",
        "\n",
        "    - /content/gdrive/My Drive/CSC321/mlp/ckpt-500.pk\n",
        "    - /content/gdrive/My Drive/CSC321/mlp/ckpt-1000.pk\n",
        "    - ...\n",
        "\n",
        "    To load the weights at a later time, you can run:\n",
        "\n",
        "    >>> model.load_state_dict(torch.load('/content/gdrive/My Drive/CSC321/mlp/ckpt-500.pk'))\n",
        "\n",
        "    This function returns the training loss, and the training/validation accuracy,\n",
        "    which we can use to plot the learning curve.\n",
        "    \"\"\"\n",
        "    criterion = nn.CrossEntropyLoss() # performs softmax\n",
        "    optimizer = optim.Adam(model.parameters(),\n",
        "                           lr=learning_rate,\n",
        "                           weight_decay=weight_decay)\n",
        "\n",
        "    iters, losses = [], []\n",
        "    iters_sub, train_accs, val_accs  = [], [] ,[]\n",
        "\n",
        "    n = 0 # the number of iterations\n",
        "    while True:\n",
        "        for i in range(0, train_data.shape[0], batch_size):\n",
        "            if (i + batch_size) > train_data.shape[0]:\n",
        "                break\n",
        "\n",
        "            # get the input and targets of a minibatch\n",
        "            xs, ts = get_batch(train_data, i, i + batch_size, onehot=False)\n",
        "\n",
        "            # convert from numpy arrays to PyTorch tensors\n",
        "            xs = torch.Tensor(xs)\n",
        "            ts = torch.Tensor(ts).long()\n",
        "\n",
        "            zs = model(xs) # this does forward\n",
        "            loss = criterion(zs, ts) # criterion performs softmax for us\n",
        "            loss.backward()\n",
        "            optimizer.step() # updates w and b\n",
        "            optimizer.zero_grad() # clears gradents for the next batch, \n",
        "            # if not gradients get accumulated\n",
        "\n",
        "            # save the current training information\n",
        "            iters.append(n)\n",
        "            losses.append(float(loss)/batch_size)  # compute *average* loss\n",
        "\n",
        "            if n % 500 == 0:\n",
        "                iters_sub.append(n)\n",
        "                train_cost = float(loss.detach().numpy())\n",
        "                train_acc = estimate_accuracy_torch(model, train_data)\n",
        "                train_accs.append(train_acc)\n",
        "                val_acc = estimate_accuracy_torch(model, validation_data)\n",
        "                val_accs.append(val_acc)\n",
        "                print(\"Iter %d. [Val Acc %.0f%%] [Train Acc %.0f%%, Loss %f]\" \n",
        "                      % (n, val_acc * 100, train_acc * 100, train_cost))\n",
        "\n",
        "                if (checkpoint_path is not None) and n > 0:\n",
        "                    torch.save(model.state_dict(), checkpoint_path.format(n))\n",
        "\n",
        "            # increment the iteration number\n",
        "            n += 1\n",
        "            \n",
        "            if n > max_iters:\n",
        "                return iters, losses, iters_sub, train_accs, val_accs\n",
        "\n",
        "\n",
        "def plot_learning_curve(iters, losses, iters_sub, train_accs, val_accs):\n",
        "    \"\"\"\n",
        "    Plot the learning curve.\n",
        "    \"\"\"\n",
        "    plt.title(\"Learning Curve: Loss per Iteration\")\n",
        "    plt.plot(iters, losses, label=\"Train\")\n",
        "    plt.xlabel(\"Iterations\")\n",
        "    plt.ylabel(\"Loss\")\n",
        "    plt.show()\n",
        "\n",
        "    plt.title(\"Learning Curve: Accuracy per Iteration\")\n",
        "    plt.plot(iters_sub, train_accs, label=\"Train\")\n",
        "    plt.plot(iters_sub, val_accs, label=\"Validation\")\n",
        "    plt.xlabel(\"Iterations\")\n",
        "    plt.ylabel(\"Accuracy\")\n",
        "    plt.legend(loc='best')\n",
        "    plt.show()"
      ],
      "execution_count": null,
      "outputs": []
    },
    {
      "cell_type": "code",
      "metadata": {
        "id": "rdWXogaP8fDI",
        "colab": {
          "base_uri": "https://localhost:8080/",
          "height": 946
        },
        "outputId": "a98e2f07-81ce-457b-fdc4-42a7397b9205"
      },
      "source": [
        "import os \n",
        "pytorch_mlp = PyTorchMLP()\n",
        "learning_curve_info = run_pytorch_gradient_descent(\n",
        "      pytorch_mlp,\n",
        "      max_iters = 10000,\n",
        "      checkpoint_path='gdrive/My Drive/CSC321/proj2/pytorchmlp/ckpt-{}.pk')\n",
        "\n",
        "# you might want to save the `learning_curve_info` somewhere, \n",
        "# so that you can plot the learning curve prior to exporting your PDF file\n",
        "plot_learning_curve(*learning_curve_info)"
      ],
      "execution_count": null,
      "outputs": [
        {
          "output_type": "stream",
          "text": [
            "Iter 0. [Val Acc 0%] [Train Acc 0%, Loss 5.528621]\n",
            "Iter 500. [Val Acc 29%] [Train Acc 30%, Loss 3.014225]\n",
            "Iter 1000. [Val Acc 31%] [Train Acc 33%, Loss 2.816281]\n",
            "Iter 1500. [Val Acc 32%] [Train Acc 33%, Loss 2.978471]\n",
            "Iter 2000. [Val Acc 34%] [Train Acc 34%, Loss 2.381459]\n",
            "Iter 2500. [Val Acc 34%] [Train Acc 35%, Loss 3.214311]\n",
            "Iter 3000. [Val Acc 35%] [Train Acc 35%, Loss 2.808010]\n",
            "Iter 3500. [Val Acc 35%] [Train Acc 35%, Loss 2.912283]\n",
            "Iter 4000. [Val Acc 35%] [Train Acc 36%, Loss 2.545719]\n",
            "Iter 4500. [Val Acc 35%] [Train Acc 37%, Loss 2.688655]\n",
            "Iter 5000. [Val Acc 35%] [Train Acc 37%, Loss 2.766499]\n",
            "Iter 5500. [Val Acc 36%] [Train Acc 37%, Loss 2.697357]\n",
            "Iter 6000. [Val Acc 36%] [Train Acc 37%, Loss 2.699950]\n",
            "Iter 6500. [Val Acc 36%] [Train Acc 37%, Loss 2.418192]\n",
            "Iter 7000. [Val Acc 36%] [Train Acc 37%, Loss 2.339251]\n",
            "Iter 7500. [Val Acc 37%] [Train Acc 38%, Loss 2.741089]\n",
            "Iter 8000. [Val Acc 37%] [Train Acc 39%, Loss 2.648784]\n",
            "Iter 8500. [Val Acc 37%] [Train Acc 39%, Loss 2.450942]\n",
            "Iter 9000. [Val Acc 37%] [Train Acc 39%, Loss 2.576301]\n",
            "Iter 9500. [Val Acc 37%] [Train Acc 39%, Loss 2.417621]\n",
            "Iter 10000. [Val Acc 37%] [Train Acc 39%, Loss 2.361628]\n"
          ],
          "name": "stdout"
        },
        {
          "output_type": "display_data",
          "data": {
            "image/png": "[encoded data removed]",
            "text/plain": [
              "<Figure size 432x288 with 1 Axes>"
            ]
          },
          "metadata": {
            "tags": []
          }
        },
        {
          "output_type": "display_data",
          "data": {
            "image/png": "[encoded data removed]",
            "text/plain": [
              "<Figure size 432x288 with 1 Axes>"
            ]
          },
          "metadata": {
            "tags": []
          }
        }
      ]
    },
    {
      "cell_type": "markdown",
      "metadata": {
        "id": "bz0vsXf18fDN"
      },
      "source": [
        "### Part (e) -- 3 points\n",
        "\n",
        "Write a function `make_prediction` that takes as parameters\n",
        "a PyTorchMLP model and sentence (a list of words), and produces\n",
        "a prediction for the next word in the sentence.\n",
        "\n",
        "Start by thinking about what you need to do, step by step, taking\n",
        "care of the difference between a numpy array and a PyTorch Tensor."
      ]
    },
    {
      "cell_type": "code",
      "metadata": {
        "id": "MSq1T3DQ8fDN"
      },
      "source": [
        "def make_prediction_torch(model, sentence):\n",
        "    \"\"\"\n",
        "    Use the model to make a prediction for the next word in the\n",
        "    sentence using the last 3 words (sentence[:-3]). You may assume\n",
        "    that len(sentence) >= 3 and that `model` is an instance of\n",
        "    PYTorchMLP.\n",
        "\n",
        "    This function should return the next word, represented as a string.\n",
        "\n",
        "    Example call:\n",
        "    >>> make_prediction_torch(pytorch_mlp, ['you', 'are', 'a'])\n",
        "    \"\"\"\n",
        "    global vocab_stoi, vocab_itos\n",
        "\n",
        "    last_3_words = sentence[-3:]\n",
        "    indices = [vocab_stoi[word] for word in last_3_words]\n",
        "\n",
        "    # get list of one-hot vectors from indices\n",
        "    xs_numpy = make_onehot(indices) #[3,  250]\n",
        "\n",
        "    # transform numpy array to pytorch tensor\n",
        "    xs_torch = torch.Tensor(xs_numpy)\n",
        "\n",
        "    # do a model forward pass on the input to get z\n",
        "    y_torch = model(xs_torch)\n",
        "\n",
        "    y_numpy = y_torch.detach().numpy()\n",
        "\n",
        "    pred = np.argmax(y_numpy, axis=1)\n",
        "\n",
        "    # get the string from index\n",
        "    return vocab_itos[pred[0]]"
      ],
      "execution_count": null,
      "outputs": []
    },
    {
      "cell_type": "markdown",
      "metadata": {
        "id": "u7MO2kty8fDR"
      },
      "source": [
        "### Part (f) -- 4 points\n",
        "\n",
        "Use your code to predict what the next word should be in each\n",
        "of the following sentences:\n",
        "\n",
        "- \"You are a\"\n",
        "- \"few companies show\"\n",
        "- \"There are no\"\n",
        "- \"yesterday i was\"\n",
        "- \"the game had\"\n",
        "- \"yesterday the federal\"\n",
        "\n",
        "Do your predictions make sense? (If all of your predictions are the same,\n",
        "train your model for more iterations, or change the hyperparameters in your\n",
        "model. You may need to do this even if your training accuracy is >=38%)\n",
        "\n",
        "One concern you might have is that our model may be \"memorizing\" information\n",
        "from the training set.  Check if each of 3-grams (the 3 words appearing next\n",
        "to each other) appear in the training set. If so, what word occurs immediately\n",
        "following those three words?"
      ]
    },
    {
      "cell_type": "code",
      "metadata": {
        "id": "9oWVwnko8fDR",
        "colab": {
          "base_uri": "https://localhost:8080/",
          "height": 161
        },
        "outputId": "618397bb-32a6-44b1-ccda-80b16e6a9509"
      },
      "source": [
        "print(make_prediction_torch(pytorch_mlp, ['you', 'are', 'a'])) # family\n",
        "print(make_prediction_torch(pytorch_mlp, ['few', 'companies', 'show'])) # up\n",
        "print(make_prediction_torch(pytorch_mlp, ['there', 'are', 'no'])) # other\n",
        "print(make_prediction_torch(pytorch_mlp, ['yesterday', 'i', 'was'])) # nt\n",
        "print(make_prediction_torch(pytorch_mlp, ['the', 'game', 'had'])) # to\n",
        "print(make_prediction_torch(pytorch_mlp, ['yesterday', 'the', 'federal']))\n",
        "#government\n",
        "\n",
        "\"\"\"\n",
        "[you are a] [family]\n",
        "There are 17 occurences of this 3-grams in the training set. \n",
        "5/17 of them have 'good' as the next word.\n",
        "2/17 have 'family' as the next word.\n",
        "This shows that our model may by memorizing information,\n",
        "but not simply the most common word that appears next to the 3 given words.\n",
        "\n",
        "[few companies show] [up]\n",
        "There are no occurences of this 3-grams in the training set.\n",
        "There are 2 occurences of [few companies], where the next word was '.'\n",
        "and 'still'.\n",
        "There are 112 occurences of [show up],\n",
        "which shows that it is a sensible prediction\n",
        "\n",
        "[there are no] [other]\n",
        "There are 8 occurences of [there are no] in the dataset, \n",
        "but 'other' wasn't followed after the 3-grams at all.\n",
        "This is good as it shows that the model isn't overfitting and is training.\n",
        "\n",
        "[yesterday i was] [nt]\n",
        "There are no occurences of the 3-grams in the training set.\n",
        "However, there are 947 occurences of [i was] and 139 occurences of [i was nt].\n",
        "This is good because it shows that the model is actually being trained\n",
        "and not overfitting on data.\n",
        "\n",
        "[the game had] [to]\n",
        "There are no occurences of [the game had] in the dataset, \n",
        "although there is 1 for [game had], and the word after it is 'come'. \n",
        "Since [to] is a reasonable predicted word for this 3-grams, this\n",
        "shows that the model is actually being trained and learning.\n",
        "\n",
        "[yestereday the federal] [government]\n",
        "There are no occurences of the 3-grams in the training set.\n",
        "However, there are 34 occurences of [the federal],\n",
        "and 32 occurences of [the federal government]\n",
        "This shows that the model is being trained properly,\n",
        "and making 'logical' decisions despite the 3-grams not occuring in the dataset.\n",
        "\"\"\""
      ],
      "execution_count": null,
      "outputs": [
        {
          "output_type": "stream",
          "text": [
            "family\n",
            "up\n",
            "other\n",
            "nt\n",
            "to\n",
            "government\n"
          ],
          "name": "stdout"
        },
        {
          "output_type": "execute_result",
          "data": {
            "text/plain": [
              "\"\\n[you are a] [good]\\nThere are 17 occurences of this 3-grams in the training set. \\n5/17 of them have 'good' as the next word.\\n\\n[few companies show] [.]\\nThere are no occurences of this 3-grams in the training set.\\nThere are 2 occurences of [few companies], where the next word was '.'\\nand 'still'.\\n\\n[there are no] [other]\\nThere are 8 occurences of [there are no] in the dataset, \\nbut 'other' wasn't followed after the 3-grams at all.\\nThis is good as it shows that the model isn't overfitting and is training.\\n\\n[yesterday i was] [nt]\\nThere are no occurences of the 3-grams in the training set.\\nHowever, there are 947 occurences of [i was] and 139 occurences of [i was nt].\\nThis is good because it shows that the model is actually being trained\\nand not overfitting on data.\\n\\nCHANGE THIS\\n[the game had] [the]\\nThere are no occurences of [the game had] in the dataset, \\nalthough there is 1 for [game had], and the word after it is 'come'. \\nSince 'the' is a reasonable predicted word for this 3-grams, this\\nshows that the model is actually being trained and learning.\\n\\n[yestereday the federal] [government]\\nThere are no occurences of the 3-grams in the training set.\\nHowever, there are 34 occurences of [the federal],\\nand 32 occurences of [the federal government]\\nThis shows that the model is being trained properly,\\nand making 'logical' decisions despite the 3-grams not occuring in the dataset.\\n\""
            ]
          },
          "metadata": {
            "tags": []
          },
          "execution_count": 34
        }
      ]
    },
    {
      "cell_type": "markdown",
      "metadata": {
        "id": "3WKufdPB8fDT"
      },
      "source": [
        "### Part (g) -- 1 points\n",
        "\n",
        "Report the test accuracy of your model"
      ]
    },
    {
      "cell_type": "code",
      "metadata": {
        "id": "_nabjQo98fDX",
        "colab": {
          "base_uri": "https://localhost:8080/",
          "height": 34
        },
        "outputId": "2086b3ca-c83a-4412-fb94-618806eb72c9"
      },
      "source": [
        "# Write your code here\n",
        "test_acc = estimate_accuracy_torch(pytorch_mlp, test4grams)\n",
        "print(\"Test Acc %.0f%%\" % ( test_acc * 100))"
      ],
      "execution_count": null,
      "outputs": [
        {
          "output_type": "stream",
          "text": [
            "Test Acc 37%\n"
          ],
          "name": "stdout"
        }
      ]
    },
    {
      "cell_type": "markdown",
      "metadata": {
        "id": "WasaVRkm8fDZ"
      },
      "source": [
        "## Question 3. Learning Word Embeddings\n",
        "\n",
        "In this section, we will build a slightly different model with a different\n",
        "architecture. In particular, we will first compute a lower-dimensional\n",
        "*representation* of the three words, before using a multi-layer perceptron.\n",
        "\n",
        "Our model will look like this:\n",
        "\n",
        "<img src=\"https://www.cs.toronto.edu/~lczhang/321/hw/p2_model2.png\" />\n",
        "\n",
        "This model has 3 layers instead of 2, but the first layer of the network\n",
        "is **not** fully-connected. Instead, we compute the representations of each\n",
        "of the three words **separately**. In addition, the first layer of the network\n",
        "will not use any biases. The reason for this will be clear in question 4.\n",
        "\n",
        "### Part (a) - 10 pts\n",
        "\n",
        "Complete the methods in `NumpyWordEmbModel`."
      ]
    },
    {
      "cell_type": "code",
      "metadata": {
        "id": "z9oc-QTt8fDa"
      },
      "source": [
        "class NumpyWordEmbModel(object):\n",
        "    def __init__(self, vocab_size=250, emb_size=100, num_hidden=100):\n",
        "        self.vocab_size = vocab_size\n",
        "        self.emb_size = emb_size\n",
        "        self.num_hidden = num_hidden\n",
        "        self.emb_weights = np.zeros([emb_size, vocab_size]) # (100, 250)\n",
        "        self.weights1 = np.zeros([num_hidden, emb_size * 3])\n",
        "        self.bias1 = np.zeros([num_hidden])\n",
        "        self.weights2 = np.zeros([vocab_size, num_hidden])\n",
        "        self.bias2 = np.zeros([vocab_size])\n",
        "        self.cleanup()\n",
        "\n",
        "    def initializeParams(self):\n",
        "        \"\"\"\n",
        "        Randomly initialize the weights and biases of this two-layer MLP.\n",
        "        The randomization is necessary so that each weight is updated to\n",
        "        a different value.\n",
        "        \"\"\"\n",
        "        self.emb_weights = np.random.normal(0, 2/self.num_hidden,\n",
        "                                            self.emb_weights.shape)\n",
        "        self.weights1 = np.random.normal(0, 2/self.emb_size*3,\n",
        "                                         self.weights1.shape)\n",
        "        self.bias1 = np.random.normal(0, 2/self.emb_size*3,\n",
        "                                      self.bias1.shape)\n",
        "        self.weights2 = np.random.normal(0, 2/self.num_hidden,\n",
        "                                         self.weights2.shape)\n",
        "        self.bias2 = np.random.normal(0, 2/self.num_hidden, self.bias2.shape)\n",
        "\n",
        "    def forward(self, inputs):\n",
        "        \"\"\"\n",
        "        Compute the forward pass prediction for inputs.\n",
        "        Note that `inputs` will be a rank-3 numpy array with shape [N, 3, 250].\n",
        "\n",
        "        For numerical stability reasons, we **do not** apply the softmax\n",
        "        activation in the forward function. The loss function assumes that \n",
        "        we return the logits from this function.\n",
        "        \"\"\"\n",
        "\n",
        "        # inputs are already one hot vectors. size [N, 3, 250]\n",
        "        # if it were a 3d array, x = # of samples N, y is the words (out of 3) \n",
        "        # and z is the number of vocab ie features = 250\n",
        "        \n",
        "        # we want to apply the weights [100, 250] * Note: no biases!\n",
        "        # onto each word (ie y = 0, 1, 2) for all samples \n",
        "        # to get [N, 100]\n",
        "\n",
        "        # Get the the first words, second words and third words for all samples\n",
        "        self.i0 = inputs[:, 0, :] # [N, 250]\n",
        "        self.i1 = inputs[:, 1, :]\n",
        "        self.i2 = inputs[:, 2, :]\n",
        "\n",
        "        # apply the emb_weights for each i1 i2 i3\n",
        "        # [N, 250] [100, 250] -> [N, 100]\n",
        "        self.r0 = np.dot(self.i0, self.emb_weights.T)\n",
        "        self.r1 = np.dot(self.i1, self.emb_weights.T) \n",
        "        self.r2 = np.dot(self.i2, self.emb_weights.T) \n",
        "\n",
        "        # # and then concatenate the word representations\n",
        "        # ie 3 x [N, 100] -> [N, 300]\n",
        "        self.r = np.concatenate((self.r0, self.r1, self.r2), axis=1) # [N, 300]\n",
        "\n",
        "        # the rest is the same as before! \n",
        "        # X = [N, 300], W1 = (100, 300) , z1 = x.Wt + b = [N, 100]\n",
        "        self.N = self.r.shape[0]\n",
        "        self.X = self.r\n",
        "        self.z1 = np.dot(self.X, self.weights1.T) + self.bias1\n",
        "\n",
        "        self.h = np.maximum(self.z1, 0)\n",
        "        self.z2 = np.dot(self.h, self.weights2.T) + self.bias2\n",
        "        self.y = softmax(self.z2)\n",
        "        return self.y\n",
        "\n",
        "    def __call__(self, inputs):\n",
        "        return self.forward(inputs)\n",
        "\n",
        "    def backward(self, ts):\n",
        "        \"\"\"\n",
        "        Compute the backward pass, given the ground-truth, one-hot targets.\n",
        "        Note that `ts` needs to be a rank 2 numpy array with shape [N, 250].\n",
        "\n",
        "        Remember the multivariate chain rule: if a weight affects the loss\n",
        "        through different paths, then the error signal from all the paths\n",
        "        must be added together.\n",
        "        \"\"\"\n",
        "        self.z2_bar = (self.y - ts) / self.N\n",
        "        self.w2_bar = np.dot(self.z2_bar.T, self.h)\n",
        "        self.b2_bar = np.dot(self.z2_bar.T, np.ones(self.N))\n",
        "        self.h_bar = np.matmul(self.z2_bar, self.weights2)\n",
        "        self.z1_bar = self.h_bar * (self.z1 > 0)\n",
        "        self.w1_bar = np.dot(self.z1_bar.T, self.X)\n",
        "        self.b1_bar = np.dot(self.z1_bar.T, np.ones(self.N))\n",
        "        self.r_bar = np.dot(self.z1_bar, self.weights1)\n",
        "\n",
        "        self.r_bar0 = self.r_bar[: , :100]\n",
        "        self.r_bar1 = self.r_bar[: , 100:200] \n",
        "        self.r_bar2 = self.r_bar[: , 200:300]\n",
        "        self.w_emb_bar = np.dot(self.r_bar0.T, self.i0) + \\\n",
        "                        np.dot(self.r_bar1.T, self.i1) + \\\n",
        "                        np.dot(self.r_bar2.T, self.i2)\n",
        "\n",
        "    def update(self, alpha):\n",
        "        \"\"\"\n",
        "        Compute the gradient descent update for the parameters.\n",
        "        \"\"\"\n",
        "        self.emb_weights = self.emb_weights - alpha * self.w_emb_bar\n",
        "        self.weights1 = self.weights1 - alpha * self.w1_bar\n",
        "        self.bias1    = self.bias1    - alpha * self.b1_bar\n",
        "        self.weights2 = self.weights2 - alpha * self.w2_bar\n",
        "        self.bias2    = self.bias2    - alpha * self.b2_bar\n",
        "\n",
        "    def cleanup(self):\n",
        "        \"\"\"\n",
        "        Erase the values of the variables that we use in our computation.\n",
        "        \"\"\"\n",
        "        self.i0 = None\n",
        "        self.i1 = None\n",
        "        self.i2 = None\n",
        "        self.r0 = None\n",
        "        self.r1 = None\n",
        "        self.r2 = None\n",
        "        self.r = None\n",
        "        self.N = None\n",
        "        self.X = None\n",
        "        self.z1 = None\n",
        "        self.h = None\n",
        "        self.z2 = None\n",
        "        self.y = None\n",
        "\n",
        "        self.r_bar = None\n",
        "        self.r_bar0 = None\n",
        "        self.r_bar1 = None\n",
        "        self.r_bar2 = None\n",
        "        self.w_emb_bar = None\n",
        "        self.z2_bar = None\n",
        "        self.w2_bar = None\n",
        "        self.b2_bar = None\n",
        "        self.h_bar = None\n",
        "        self.z1_bar = None\n",
        "        self.w1_bar = None\n",
        "        self.b1_bar = None"
      ],
      "execution_count": null,
      "outputs": []
    },
    {
      "cell_type": "markdown",
      "metadata": {
        "id": "mSGjlxNw8fDj"
      },
      "source": [
        "### Part (b) -- 1 pts\n",
        "\n",
        "One strategy that machine learning practitioners use to debug their code\n",
        "is to *first try to overfit their model to a small training set*. If the\n",
        "gradient computation is correct and the data is encoded properly, then your\n",
        "model should easily achieve 100% training accuracy on a small training set.\n",
        "\n",
        "Show that your model is implemented correctly by showing that your model\n",
        "can achieve an 100% training accuracy within a few hundred iterations, when\n",
        "using a small training set (e.g. one batch)."
      ]
    },
    {
      "cell_type": "code",
      "metadata": {
        "id": "eUEO0pDS8fDk",
        "colab": {
          "base_uri": "https://localhost:8080/",
          "height": 905
        },
        "outputId": "7ac026d3-b7fd-4a23-cdd1-dabbca5d3bb1"
      },
      "source": [
        "numpy_wordemb = NumpyWordEmbModel()\n",
        "numpy_wordemb.initializeParams()\n",
        "run_gradient_descent(numpy_wordemb, train4grams[:64], batch_size=64)"
      ],
      "execution_count": null,
      "outputs": [
        {
          "output_type": "stream",
          "text": [
            "Iter 100. [Val Acc 17%] [Train Acc 19%, Loss 4.524473]\n",
            "Iter 200. [Val Acc 17%] [Train Acc 19%, Loss 3.697953]\n",
            "Iter 300. [Val Acc 17%] [Train Acc 20%, Loss 3.300375]\n",
            "Iter 400. [Val Acc 19%] [Train Acc 25%, Loss 2.897899]\n",
            "Iter 500. [Val Acc 12%] [Train Acc 39%, Loss 2.394347]\n",
            "Iter 600. [Val Acc 10%] [Train Acc 56%, Loss 1.887895]\n",
            "Iter 700. [Val Acc 9%] [Train Acc 69%, Loss 1.397091]\n",
            "Iter 800. [Val Acc 9%] [Train Acc 92%, Loss 0.928806]\n",
            "Iter 900. [Val Acc 8%] [Train Acc 100%, Loss 0.558888]\n",
            "Iter 1000. [Val Acc 8%] [Train Acc 100%, Loss 0.319031]\n",
            "Iter 1100. [Val Acc 7%] [Train Acc 100%, Loss 0.187457]\n",
            "Iter 1200. [Val Acc 7%] [Train Acc 100%, Loss 0.117036]\n",
            "Iter 1300. [Val Acc 7%] [Train Acc 100%, Loss 0.077712]\n",
            "Iter 1400. [Val Acc 7%] [Train Acc 100%, Loss 0.054787]\n",
            "Iter 1500. [Val Acc 7%] [Train Acc 100%, Loss 0.040803]\n",
            "Iter 1600. [Val Acc 7%] [Train Acc 100%, Loss 0.031867]\n",
            "Iter 1700. [Val Acc 7%] [Train Acc 100%, Loss 0.025805]\n",
            "Iter 1800. [Val Acc 7%] [Train Acc 100%, Loss 0.021492]\n",
            "Iter 1900. [Val Acc 7%] [Train Acc 100%, Loss 0.018299]\n",
            "Iter 2000. [Val Acc 7%] [Train Acc 100%, Loss 0.015860]\n",
            "Iter 2100. [Val Acc 7%] [Train Acc 100%, Loss 0.013947]\n",
            "Iter 2200. [Val Acc 7%] [Train Acc 100%, Loss 0.012411]\n",
            "Iter 2300. [Val Acc 7%] [Train Acc 100%, Loss 0.011155]\n",
            "Iter 2400. [Val Acc 7%] [Train Acc 100%, Loss 0.010111]\n",
            "Iter 2500. [Val Acc 7%] [Train Acc 100%, Loss 0.009231]\n",
            "Iter 2600. [Val Acc 8%] [Train Acc 100%, Loss 0.008480]\n",
            "Iter 2700. [Val Acc 8%] [Train Acc 100%, Loss 0.007833]\n",
            "Iter 2800. [Val Acc 8%] [Train Acc 100%, Loss 0.007271]\n",
            "Iter 2900. [Val Acc 8%] [Train Acc 100%, Loss 0.006777]\n",
            "Iter 3000. [Val Acc 8%] [Train Acc 100%, Loss 0.006342]\n",
            "Iter 3100. [Val Acc 8%] [Train Acc 100%, Loss 0.005955]\n",
            "Iter 3200. [Val Acc 8%] [Train Acc 100%, Loss 0.005610]\n",
            "Iter 3300. [Val Acc 8%] [Train Acc 100%, Loss 0.005299]\n",
            "Iter 3400. [Val Acc 8%] [Train Acc 100%, Loss 0.005019]\n",
            "Iter 3500. [Val Acc 8%] [Train Acc 100%, Loss 0.004764]\n",
            "Iter 3600. [Val Acc 8%] [Train Acc 100%, Loss 0.004532]\n",
            "Iter 3700. [Val Acc 8%] [Train Acc 100%, Loss 0.004321]\n",
            "Iter 3800. [Val Acc 8%] [Train Acc 100%, Loss 0.004126]\n",
            "Iter 3900. [Val Acc 8%] [Train Acc 100%, Loss 0.003947]\n",
            "Iter 4000. [Val Acc 8%] [Train Acc 100%, Loss 0.003782]\n",
            "Iter 4100. [Val Acc 8%] [Train Acc 100%, Loss 0.003629]\n",
            "Iter 4200. [Val Acc 8%] [Train Acc 100%, Loss 0.003487]\n",
            "Iter 4300. [Val Acc 8%] [Train Acc 100%, Loss 0.003356]\n",
            "Iter 4400. [Val Acc 8%] [Train Acc 100%, Loss 0.003233]\n",
            "Iter 4500. [Val Acc 8%] [Train Acc 100%, Loss 0.003118]\n",
            "Iter 4600. [Val Acc 8%] [Train Acc 100%, Loss 0.003010]\n",
            "Iter 4700. [Val Acc 8%] [Train Acc 100%, Loss 0.002910]\n",
            "Iter 4800. [Val Acc 8%] [Train Acc 100%, Loss 0.002815]\n",
            "Iter 4900. [Val Acc 8%] [Train Acc 100%, Loss 0.002726]\n",
            "Iter 5000. [Val Acc 8%] [Train Acc 100%, Loss 0.002641]\n"
          ],
          "name": "stdout"
        }
      ]
    },
    {
      "cell_type": "markdown",
      "metadata": {
        "id": "zaPe_owc8fDm"
      },
      "source": [
        "### Part (c) -- 2 pts\n",
        "\n",
        "Train your model from part (a) to obtain a training accuracy of at least 25%."
      ]
    },
    {
      "cell_type": "code",
      "metadata": {
        "id": "lTp6bppA8fDn",
        "colab": {
          "base_uri": "https://localhost:8080/",
          "height": 905
        },
        "outputId": "70cefa79-e87c-4695-e4b2-95f8fd854ae2"
      },
      "source": [
        "numpy_wordemb = NumpyWordEmbModel()\n",
        "numpy_wordemb.initializeParams()\n",
        "run_gradient_descent(numpy_wordemb)"
      ],
      "execution_count": null,
      "outputs": [
        {
          "output_type": "stream",
          "text": [
            "Iter 100. [Val Acc 17%] [Train Acc 17%, Loss 5.032502]\n",
            "Iter 200. [Val Acc 17%] [Train Acc 17%, Loss 4.880606]\n",
            "Iter 300. [Val Acc 17%] [Train Acc 17%, Loss 4.554912]\n",
            "Iter 400. [Val Acc 17%] [Train Acc 17%, Loss 4.384695]\n",
            "Iter 500. [Val Acc 17%] [Train Acc 17%, Loss 4.528577]\n",
            "Iter 600. [Val Acc 17%] [Train Acc 17%, Loss 4.188093]\n",
            "Iter 700. [Val Acc 17%] [Train Acc 17%, Loss 4.103424]\n",
            "Iter 800. [Val Acc 17%] [Train Acc 17%, Loss 4.353946]\n",
            "Iter 900. [Val Acc 17%] [Train Acc 17%, Loss 4.194991]\n",
            "Iter 1000. [Val Acc 17%] [Train Acc 17%, Loss 4.525984]\n",
            "Iter 1100. [Val Acc 18%] [Train Acc 18%, Loss 4.301158]\n",
            "Iter 1200. [Val Acc 20%] [Train Acc 20%, Loss 4.414664]\n",
            "Iter 1300. [Val Acc 20%] [Train Acc 20%, Loss 4.092358]\n",
            "Iter 1400. [Val Acc 20%] [Train Acc 20%, Loss 4.265350]\n",
            "Iter 1500. [Val Acc 20%] [Train Acc 20%, Loss 4.140090]\n",
            "Iter 1600. [Val Acc 20%] [Train Acc 21%, Loss 4.034623]\n",
            "Iter 1700. [Val Acc 21%] [Train Acc 21%, Loss 4.043178]\n",
            "Iter 1800. [Val Acc 21%] [Train Acc 21%, Loss 4.052192]\n",
            "Iter 1900. [Val Acc 21%] [Train Acc 21%, Loss 3.844413]\n",
            "Iter 2000. [Val Acc 21%] [Train Acc 21%, Loss 4.035540]\n",
            "Iter 2100. [Val Acc 22%] [Train Acc 22%, Loss 3.993096]\n",
            "Iter 2200. [Val Acc 22%] [Train Acc 22%, Loss 3.777298]\n",
            "Iter 2300. [Val Acc 22%] [Train Acc 22%, Loss 3.853070]\n",
            "Iter 2400. [Val Acc 23%] [Train Acc 23%, Loss 3.873104]\n",
            "Iter 2500. [Val Acc 23%] [Train Acc 24%, Loss 3.897868]\n",
            "Iter 2600. [Val Acc 24%] [Train Acc 24%, Loss 3.696818]\n",
            "Iter 2700. [Val Acc 25%] [Train Acc 25%, Loss 3.911444]\n",
            "Iter 2800. [Val Acc 25%] [Train Acc 25%, Loss 3.893651]\n",
            "Iter 2900. [Val Acc 25%] [Train Acc 25%, Loss 3.855906]\n",
            "Iter 3000. [Val Acc 25%] [Train Acc 25%, Loss 3.395780]\n",
            "Iter 3100. [Val Acc 25%] [Train Acc 25%, Loss 3.477073]\n",
            "Iter 3200. [Val Acc 25%] [Train Acc 26%, Loss 3.593388]\n",
            "Iter 3300. [Val Acc 25%] [Train Acc 26%, Loss 3.740329]\n",
            "Iter 3400. [Val Acc 26%] [Train Acc 26%, Loss 3.124503]\n",
            "Iter 3500. [Val Acc 26%] [Train Acc 26%, Loss 3.397114]\n",
            "Iter 3600. [Val Acc 26%] [Train Acc 26%, Loss 3.250914]\n",
            "Iter 3700. [Val Acc 26%] [Train Acc 26%, Loss 3.616494]\n",
            "Iter 3800. [Val Acc 26%] [Train Acc 27%, Loss 3.499241]\n",
            "Iter 3900. [Val Acc 26%] [Train Acc 26%, Loss 3.460298]\n",
            "Iter 4000. [Val Acc 26%] [Train Acc 27%, Loss 3.745816]\n",
            "Iter 4100. [Val Acc 27%] [Train Acc 27%, Loss 3.357587]\n",
            "Iter 4200. [Val Acc 26%] [Train Acc 27%, Loss 3.310136]\n",
            "Iter 4300. [Val Acc 27%] [Train Acc 27%, Loss 3.603057]\n",
            "Iter 4400. [Val Acc 27%] [Train Acc 27%, Loss 3.107394]\n",
            "Iter 4500. [Val Acc 27%] [Train Acc 27%, Loss 3.314729]\n",
            "Iter 4600. [Val Acc 27%] [Train Acc 27%, Loss 3.438602]\n",
            "Iter 4700. [Val Acc 27%] [Train Acc 27%, Loss 3.269226]\n",
            "Iter 4800. [Val Acc 27%] [Train Acc 27%, Loss 3.138521]\n",
            "Iter 4900. [Val Acc 27%] [Train Acc 27%, Loss 3.280987]\n",
            "Iter 5000. [Val Acc 28%] [Train Acc 28%, Loss 3.324132]\n"
          ],
          "name": "stdout"
        }
      ]
    },
    {
      "cell_type": "markdown",
      "metadata": {
        "id": "APTepYM88fDp"
      },
      "source": [
        "### Part (d) -- 2 pts\n",
        "\n",
        "The PyTorch version of the model is implemented for you. Use \n",
        "`run_pytorch_gradient_descent` to train\n",
        "your PyTorch MLP model to obtain a training accuracy of at least 38%.\n",
        "Plot the learning curve using the `plot_learning_curve` function provided\n",
        "to you, and include your plot in your PDF submission.\n",
        "\n",
        "Make sure that you checkpoint frequently. We will be using ..."
      ]
    },
    {
      "cell_type": "code",
      "metadata": {
        "id": "eiciDx6R8fDq",
        "colab": {
          "base_uri": "https://localhost:8080/",
          "height": 1000
        },
        "outputId": "126e2cdb-2c1f-43cd-dbb1-9f4682c951f9"
      },
      "source": [
        "class PyTorchWordEmb(nn.Module):\n",
        "    def __init__(self, emb_size=100, num_hidden=300, vocab_size=250):\n",
        "        super(PyTorchWordEmb, self).__init__()\n",
        "        self.word_emb_layer = nn.Linear(vocab_size, emb_size, bias=False)\n",
        "        self.fc_layer1 = nn.Linear(emb_size * 3, num_hidden)\n",
        "        self.fc_layer2 = nn.Linear(num_hidden, 250)\n",
        "        self.num_hidden = num_hidden\n",
        "        self.emb_size = emb_size\n",
        "        \n",
        "    def forward(self, inp):\n",
        "        embeddings = torch.relu(self.word_emb_layer(inp))\n",
        "        embeddings = embeddings.reshape([-1, self.emb_size * 3])\n",
        "        hidden = torch.relu(self.fc_layer1(embeddings))\n",
        "        return self.fc_layer2(hidden)\n",
        "\n",
        "pytorch_wordemb= PyTorchWordEmb()\n",
        "result = run_pytorch_gradient_descent(pytorch_wordemb,\n",
        "                                      max_iters=20000,\n",
        "                                      checkpoint_path=\n",
        "                      'gdrive/My Drive/CSC321/proj2/pytorch_wordemb/ckpt-{}.pk')\n",
        "\n",
        "plot_learning_curve(*result)"
      ],
      "execution_count": null,
      "outputs": [
        {
          "output_type": "stream",
          "text": [
            "Iter 0. [Val Acc 1%] [Train Acc 1%, Loss 5.530123]\n",
            "Iter 500. [Val Acc 27%] [Train Acc 27%, Loss 3.271891]\n",
            "Iter 1000. [Val Acc 29%] [Train Acc 29%, Loss 3.043026]\n",
            "Iter 1500. [Val Acc 31%] [Train Acc 31%, Loss 3.182435]\n",
            "Iter 2000. [Val Acc 32%] [Train Acc 32%, Loss 2.485475]\n",
            "Iter 2500. [Val Acc 32%] [Train Acc 33%, Loss 3.313962]\n",
            "Iter 3000. [Val Acc 33%] [Train Acc 33%, Loss 2.886694]\n",
            "Iter 3500. [Val Acc 34%] [Train Acc 34%, Loss 2.922252]\n",
            "Iter 4000. [Val Acc 34%] [Train Acc 34%, Loss 2.702659]\n",
            "Iter 4500. [Val Acc 34%] [Train Acc 35%, Loss 2.848837]\n",
            "Iter 5000. [Val Acc 34%] [Train Acc 35%, Loss 2.795928]\n",
            "Iter 5500. [Val Acc 34%] [Train Acc 35%, Loss 2.906312]\n",
            "Iter 6000. [Val Acc 35%] [Train Acc 35%, Loss 2.845852]\n",
            "Iter 6500. [Val Acc 35%] [Train Acc 35%, Loss 2.541389]\n",
            "Iter 7000. [Val Acc 35%] [Train Acc 36%, Loss 2.502887]\n",
            "Iter 7500. [Val Acc 35%] [Train Acc 36%, Loss 2.898102]\n",
            "Iter 8000. [Val Acc 35%] [Train Acc 37%, Loss 2.747041]\n",
            "Iter 8500. [Val Acc 36%] [Train Acc 37%, Loss 2.384128]\n",
            "Iter 9000. [Val Acc 36%] [Train Acc 37%, Loss 2.690524]\n",
            "Iter 9500. [Val Acc 36%] [Train Acc 37%, Loss 2.506867]\n",
            "Iter 10000. [Val Acc 36%] [Train Acc 37%, Loss 2.418650]\n",
            "Iter 10500. [Val Acc 36%] [Train Acc 37%, Loss 2.546868]\n",
            "Iter 11000. [Val Acc 36%] [Train Acc 37%, Loss 2.684383]\n",
            "Iter 11500. [Val Acc 36%] [Train Acc 38%, Loss 2.476657]\n",
            "Iter 12000. [Val Acc 36%] [Train Acc 38%, Loss 2.512427]\n",
            "Iter 12500. [Val Acc 36%] [Train Acc 38%, Loss 2.527072]\n",
            "Iter 13000. [Val Acc 37%] [Train Acc 38%, Loss 2.601516]\n",
            "Iter 13500. [Val Acc 37%] [Train Acc 38%, Loss 2.495326]\n",
            "Iter 14000. [Val Acc 37%] [Train Acc 38%, Loss 2.812740]\n",
            "Iter 14500. [Val Acc 37%] [Train Acc 38%, Loss 2.360636]\n",
            "Iter 15000. [Val Acc 37%] [Train Acc 38%, Loss 2.298201]\n",
            "Iter 15500. [Val Acc 37%] [Train Acc 39%, Loss 2.489264]\n",
            "Iter 16000. [Val Acc 37%] [Train Acc 39%, Loss 2.744822]\n",
            "Iter 16500. [Val Acc 37%] [Train Acc 39%, Loss 2.695180]\n",
            "Iter 17000. [Val Acc 37%] [Train Acc 39%, Loss 2.588700]\n",
            "Iter 17500. [Val Acc 37%] [Train Acc 38%, Loss 2.754202]\n",
            "Iter 18000. [Val Acc 37%] [Train Acc 38%, Loss 2.313923]\n",
            "Iter 18500. [Val Acc 37%] [Train Acc 38%, Loss 2.625560]\n",
            "Iter 19000. [Val Acc 37%] [Train Acc 39%, Loss 2.313351]\n",
            "Iter 19500. [Val Acc 37%] [Train Acc 40%, Loss 2.692410]\n",
            "Iter 20000. [Val Acc 37%] [Train Acc 39%, Loss 2.295443]\n"
          ],
          "name": "stdout"
        },
        {
          "output_type": "display_data",
          "data": {
            "image/png": "[encoded data removed]",
            "text/plain": [
              "<Figure size 432x288 with 1 Axes>"
            ]
          },
          "metadata": {
            "tags": []
          }
        },
        {
          "output_type": "display_data",
          "data": {
            "image/png": "[encoded data removed]",
            "text/plain": [
              "<Figure size 432x288 with 1 Axes>"
            ]
          },
          "metadata": {
            "tags": []
          }
        }
      ]
    },
    {
      "cell_type": "markdown",
      "metadata": {
        "id": "DXRiW1hp8fDt"
      },
      "source": [
        "### Part (e) -- 2 pts\n",
        "\n",
        "Use the function `make_prediction` that you wrote earlier to  \n",
        "predict what the next word should be in each of the following sentences:\n",
        "\n",
        "- \"You are a\"\n",
        "- \"few companies show\"\n",
        "- \"There are no\"\n",
        "- \"yesterday i was\"\n",
        "- \"the game had\"\n",
        "- \"yesterday the federal\"\n",
        "\n",
        "How do these predictions compared to the previous model?\n",
        "\n",
        "Just like before, if all of your predictions are the same,\n",
        "train your model for more iterations, or change the hyperparameters in your\n",
        "model. You may need to do this even if your training accuracy is >=38%."
      ]
    },
    {
      "cell_type": "code",
      "metadata": {
        "id": "DFRy7euZ8fDt",
        "colab": {
          "base_uri": "https://localhost:8080/",
          "height": 161
        },
        "outputId": "245bfab3-280e-44a6-a57b-33fc2e81e16b"
      },
      "source": [
        "print(make_prediction_torch(pytorch_wordemb, ['you', 'are', 'a'])) # good\n",
        "print(make_prediction_torch(pytorch_wordemb, ['few', 'companies', 'show'])) # .\n",
        "print(make_prediction_torch(pytorch_wordemb, ['there', 'are', 'no'])) # way\n",
        "print(make_prediction_torch(pytorch_wordemb, ['yesterday', 'i', 'was'])) # .\n",
        "print(make_prediction_torch(pytorch_wordemb, ['the', 'game', 'had'])) # to\n",
        "print(make_prediction_torch(pytorch_wordemb, ['yesterday', 'the', 'federal'])) \n",
        "# government\n",
        "\n",
        "\"\"\"\n",
        "Previous Model's predictions:\n",
        "[you are a] [family]\n",
        "[few companies show] [up]\n",
        "[there are no] [other]\n",
        "[yesterday i was] [nt]\n",
        "[the game had] [to]\n",
        "[yesterday the federal] [government]\n",
        "\n",
        "\n",
        "Compared to the previous model's predictions, 4 are different:\n",
        "[you are a] [good]\n",
        "[few companies show] [.]\n",
        "[there are no] [way]\n",
        "[yesterday i was] [.]\n",
        "\n",
        "This model seems to return more period punctuations that we would like.\n",
        "\"\"\""
      ],
      "execution_count": null,
      "outputs": [
        {
          "output_type": "stream",
          "text": [
            "good\n",
            ".\n",
            "way\n",
            ".\n",
            "to\n",
            "government\n"
          ],
          "name": "stdout"
        },
        {
          "output_type": "execute_result",
          "data": {
            "text/plain": [
              "\"\\nPrevious Model's predictions:\\n[you are a] [family]\\n[few companies show] [up]\\n[there are no] [other]\\n[yesterday i was] [nt]\\n[the game had] [to]\\n[yesterday the federal] [government]\\n\\n\\nCompared to the previous model's predictions, 4 are different:\\n[you are a] [good]\\n[few companies show] [.]\\n[there are no] [way]\\n[yesterday i was] [.]\\n\\nThis model seems to return more period punctuations that we would like.\\n\""
            ]
          },
          "metadata": {
            "tags": []
          },
          "execution_count": 37
        }
      ]
    },
    {
      "cell_type": "markdown",
      "metadata": {
        "id": "gpHFxPRP8fDw"
      },
      "source": [
        "### Part (f) -- 1 pts\n",
        "\n",
        "Report the test accuracy of your model"
      ]
    },
    {
      "cell_type": "code",
      "metadata": {
        "id": "s7MCCQCi8fDx",
        "colab": {
          "base_uri": "https://localhost:8080/",
          "height": 34
        },
        "outputId": "c96917f8-3a45-4778-d7dd-a3f587951afb"
      },
      "source": [
        "test_acc = estimate_accuracy_torch(pytorch_wordemb, test4grams)\n",
        "print(\"Test Acc %.0f%%\" % ( test_acc * 100))"
      ],
      "execution_count": null,
      "outputs": [
        {
          "output_type": "stream",
          "text": [
            "Test Acc 38%\n"
          ],
          "name": "stdout"
        }
      ]
    },
    {
      "cell_type": "markdown",
      "metadata": {
        "id": "s-5VIK_B8fD0"
      },
      "source": [
        "## Question 4. Visualizing Word Embeddings\n",
        "\n",
        "While training the `PyTorchMLP`, we trained the `word_emb_layer`, which takes a one-hot\n",
        "representation of a word in our vocabulary, and returns a low-dimensional vector\n",
        "representation of that word. In this question, we will explore these word embeddings.\n",
        "\n",
        "### Part (a) -- 2 pts\n",
        "\n",
        "The code below extracts the **weights** of the word embedding layer,\n",
        "and converts the PyTorch tensor into an numpy array.\n",
        "Explain why each *row* of `word_emb` contains the vector representing\n",
        "of a word. For example `word_emb[vocab_stoi[\"any\"],:]` contains the\n",
        "vector representation of the word \"any\"."
      ]
    },
    {
      "cell_type": "code",
      "metadata": {
        "id": "SBEOKDVA8fD0",
        "colab": {
          "base_uri": "https://localhost:8080/",
          "height": 54
        },
        "outputId": "71a6353a-fa9e-4f8d-a293-9888b3442346"
      },
      "source": [
        "word_emb_weights = list(pytorch_wordemb.word_emb_layer.parameters())[0]\n",
        "word_emb = word_emb_weights.detach().numpy().T\n",
        "\n",
        "# Write your explanation here\n",
        "\"\"\" \n",
        "We get the word representation of a word by multiplying \n",
        "its one-hot vector and the embeded weights for that word.\n",
        "\n",
        "From the initializer of the pytorch_wordemb model,\n",
        "the shape of word_emb_weights is [vocab_size, emb_size] = [250, 100]\n",
        "This means that each row contain the weights for a word.\n",
        "\n",
        "Dimensions wise:\n",
        "the shapes of word_emb_weights and word_emb, W, are both [250, 100]\n",
        "the shape of the one hot vector of 1 word, X, is [1, 250]\n",
        "X(W.T) give a vector of [1, 100] which is the vector representation of the word.\n",
        "\n",
        "Code wise:\n",
        "We get the index of a given word, i, using vocab_stoi[\"any\"]\n",
        "Since the one hot vector only has 1 at index i,\n",
        "The matrix multiplication of X(W.T) will only return row i of word_emb, ie\n",
        "word_emb[i, :]. Its shape is [1, 100] which confirms our intuition above.\n",
        "Therefore, word_emb[i,:] gives us the vector word representation of the word.\n",
        "\"\"\""
      ],
      "execution_count": null,
      "outputs": [
        {
          "output_type": "execute_result",
          "data": {
            "text/plain": [
              "' \\nWe get the word representation of a word by multiplying \\nits one-hot vector and the embeded weights for that word.\\n\\nFrom the initializer of the pytorch_wordemb model,\\nthe shape of word_emb_weights is [vocab_size, emb_size] = [250, 100]\\nThis means that each row contain the weights for a word.\\n\\nDimensions wise:\\nthe shapes of word_emb_weights and word_emb, W, are both [250, 100]\\nthe shape of the one hot vector of 1 word, X, is [1, 250]\\nX(W.T) give a vector of [1, 100] which is the vector representation of the word.\\n\\nCode wise:\\nWe get the index of a given word, i, using vocab_stoi[\"any\"]\\nSince the one hot vector only has 1 at index i,\\nThe matrix multiplication of X(W.T) will only return row i of word_emb, ie\\nword_emb[i, :]. Its shape is [1, 100] which confirms our intuition above.\\nTherefore, word_emb[i,:] gives us the vector word representation of the word.\\n'"
            ]
          },
          "metadata": {
            "tags": []
          },
          "execution_count": 39
        }
      ]
    },
    {
      "cell_type": "markdown",
      "metadata": {
        "id": "V9wf-ACQ8fD2"
      },
      "source": [
        "### Part (b) -- 2 pts\n",
        "\n",
        "Once interesting thing about these word embeddings is that distances\n",
        "in these vector representations of words make some sense! To show this,\n",
        "we have provided code below that computes the cosine similarity of\n",
        "every pair of words in our vocabulary. This code should look familiar,\n",
        "since we have seen it in project 1."
      ]
    },
    {
      "cell_type": "code",
      "metadata": {
        "id": "We12JSu88fD3",
        "colab": {
          "base_uri": "https://localhost:8080/",
          "height": 52
        },
        "outputId": "5723e994-758c-4f84-9442-d63e295ecf24"
      },
      "source": [
        "norms = np.linalg.norm(word_emb, axis=1)\n",
        "word_emb_norm = (word_emb.T / norms).T\n",
        "similarities = np.matmul(word_emb_norm, word_emb_norm.T)\n",
        "\n",
        "# Some example distances. The first one should be larger than the second\n",
        "print(similarities[vocab_stoi['any'], vocab_stoi['many']])\n",
        "print(similarities[vocab_stoi['any'], vocab_stoi['government']])\n",
        "\n",
        "# output\n",
        "# 0.13677008\n",
        "# -0.00672679"
      ],
      "execution_count": null,
      "outputs": [
        {
          "output_type": "stream",
          "text": [
            "0.13677008\n",
            "-0.00672679\n"
          ],
          "name": "stdout"
        }
      ]
    },
    {
      "cell_type": "markdown",
      "metadata": {
        "id": "jdqeMKZI8fD7"
      },
      "source": [
        "Compute the 5 closest words to the following words:\n",
        "\n",
        "- \"four\"\n",
        "- \"go\"\n",
        "- \"what\"\n",
        "- \"should\"\n",
        "- \"school\"\n",
        "- \"your\"\n",
        "- \"yesterday\"\n",
        "- \"not\""
      ]
    },
    {
      "cell_type": "code",
      "metadata": {
        "id": "YQhJlAXD8fD7",
        "colab": {
          "base_uri": "https://localhost:8080/",
          "height": 158
        },
        "outputId": "698e32c6-9695-4dd3-eade-c8472b60c5b8"
      },
      "source": [
        "def get_nearest_neighbours(word, k=5):\n",
        "  \"\"\"Return the indices of the top k-element of `xs` that are closests to\n",
        "  element `i` of the validation set `val_xs`.\n",
        "  \"\"\"\n",
        "  # sort the element of the training set by distance to the i-th\n",
        "  # element of val_xs\n",
        "  neighbours = sorted(enumerate(similarities[:, vocab_stoi[word]]),\n",
        "                      key=lambda r: r[1],\n",
        "                      reverse=True)\n",
        "  # obtain the top k closest index and return it\n",
        "  neighbour_indices = [index for (index, dist) in neighbours[:k]]\n",
        "  neighbour_words = [vocab_itos[i] for i in neighbour_indices]\n",
        "  return neighbour_words\n",
        "\n",
        "print(get_nearest_neighbours('four'))\n",
        "print(get_nearest_neighbours('go'))\n",
        "print(get_nearest_neighbours('what'))\n",
        "print(get_nearest_neighbours('should'))\n",
        "print(get_nearest_neighbours('school'))\n",
        "print(get_nearest_neighbours('your'))\n",
        "print(get_nearest_neighbours('yesterday'))\n",
        "print(get_nearest_neighbours('not'))\n",
        "\n",
        "# output: nearest word should be the word itself\n",
        "# ['four', 'two', 'three', 'five', 'several']\n",
        "# ['go', 'come', 'going', 'up', 'second']\n",
        "# ['what', 'where', 'who', 'how', 'much']\n",
        "# ['should', 'would', 'might', 'can', 'could']\n",
        "# ['school', 'time', 'law', 'states', 'over']\n",
        "# ['your', 'their', 'our', 'his', 'my']\n",
        "# ['yesterday', 'week', 'season', 'first', 'next']\n",
        "# ['not', 'nt', 'may', 'against', 'case']"
      ],
      "execution_count": null,
      "outputs": [
        {
          "output_type": "stream",
          "text": [
            "['four', 'five', 'were', 'court', 'some']\n",
            "['go', 'back', 'come', 'get', 'going']\n",
            "['what', 'where', 'while', 'how', 'who']\n",
            "['should', 'would', 'could', 'may', 'can']\n",
            "['school', 'life', 'next', 'women', 'part']\n",
            "['your', 'my', 'her', 'our', 'the']\n",
            "['yesterday', 'general', 'then', 'one', 'us']\n",
            "['not', 'nt', 'even', 'also', 'federal']\n"
          ],
          "name": "stdout"
        }
      ]
    },
    {
      "cell_type": "markdown",
      "metadata": {
        "id": "GWrcgqBi8fD-"
      },
      "source": [
        "### Part (c) -- 2 pts\n",
        "\n",
        "We can visualize the word embeddings by reducing the dimensionality of\n",
        "the word vectors to 2D. There are many dimensionality reduction techniques\n",
        "that we could use, and we will use an algorithm called t-SNE.\n",
        "(You don’t need to know what this is for the assignment,\n",
        "but we may cover it later in the course.)\n",
        "Nearby points in this 2-D space are meant to correspond to nearby points\n",
        "in the original, high-dimensional space.\n",
        "\n",
        "The following code runs the t-SNE algorithm and plots the result.\n",
        "Look at the plot and find two clusters of related words.\n",
        "What do the words in each cluster have in common?\n",
        "\n",
        "Note that there is randomness in the initialization of the t-SNE \n",
        "algorithm. If you re-run this code, you may get a different image.\n",
        "Please make sure to submit your image in the PDF file for your TA to see."
      ]
    },
    {
      "cell_type": "code",
      "metadata": {
        "id": "0Xo742V18fD-",
        "colab": {
          "base_uri": "https://localhost:8080/",
          "height": 598
        },
        "outputId": "d2d38e34-4bd8-48f4-efb5-b7decb99dba3"
      },
      "source": [
        "import sklearn.manifold\n",
        "tsne = sklearn.manifold.TSNE()\n",
        "Y = tsne.fit_transform(word_emb)\n",
        "\n",
        "plt.figure(figsize=(10, 10))\n",
        "plt.xlim(Y[:,0].min(), Y[:, 0].max())\n",
        "plt.ylim(Y[:,1].min(), Y[:, 1].max())\n",
        "for i, w in enumerate(vocab):\n",
        "    plt.text(Y[i, 0], Y[i, 1], w)\n",
        "plt.show()\n",
        "\n",
        "\"\"\"\n",
        "the 2 clusters we found are: \n",
        "cluster1 = [him, director, president, state,law, public, business],\n",
        "which are entities related to roles of governance,\n",
        "and reveals a bias in the data that it relates roles of governance to males\n",
        "\n",
        "cluster2 = [women, family, school, market]\n",
        "are entities that that have stereotypically related to societal roles of women\n",
        "\"\"\""
      ],
      "execution_count": null,
      "outputs": [
        {
          "output_type": "display_data",
          "data": {
            "image/png": "[encoded data removed]",
            "text/plain": [
              "<Figure size 720x720 with 1 Axes>"
            ]
          },
          "metadata": {
            "tags": []
          }
        }
      ]
    },
    {
      "cell_type": "code",
      "metadata": {
        "id": "UTvX3TpBr8en"
      },
      "source": [
        ""
      ],
      "execution_count": null,
      "outputs": []
    }
  ]
}